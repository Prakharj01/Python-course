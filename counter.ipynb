{
 "cells": [
  {
   "cell_type": "code",
   "execution_count": 8,
   "metadata": {},
   "outputs": [
    {
     "name": "stdout",
     "output_type": "stream",
     "text": [
      "Counter({2: 4, 3: 4, 1: 3, 4: 2, 5: 1})\n",
      "[(1, 3), (2, 4), (3, 4), (4, 2), (5, 1)]\n",
      "[1, 2, 3, 4, 5]\n",
      "[3, 4, 4, 2, 1]\n"
     ]
    }
   ],
   "source": [
    "from collections import Counter\n",
    "myList=[1,1,2,3,4,5,3,2,3,4,2,1,2,3]\n",
    "\n",
    "print(Counter(myList))\n",
    "print(list(Counter(myList).items()))\n",
    "print(list(Counter(myList).keys()))\n",
    "print(list(Counter(myList).values()))"
   ]
  }
 ],
 "metadata": {
  "interpreter": {
   "hash": "31f2aee4e71d21fbe5cf8b01ff0e069b9275f58929596ceb00d14d90e3e16cd6"
  },
  "kernelspec": {
   "display_name": "Python 3.8.9 64-bit",
   "language": "python",
   "name": "python3"
  },
  "language_info": {
   "codemirror_mode": {
    "name": "ipython",
    "version": 3
   },
   "file_extension": ".py",
   "mimetype": "text/x-python",
   "name": "python",
   "nbconvert_exporter": "python",
   "pygments_lexer": "ipython3",
   "version": "3.8.9"
  },
  "orig_nbformat": 4
 },
 "nbformat": 4,
 "nbformat_minor": 2
}

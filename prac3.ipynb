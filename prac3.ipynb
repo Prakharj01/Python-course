{
 "cells": [
  {
   "cell_type": "code",
   "execution_count": 7,
   "metadata": {},
   "outputs": [],
   "source": [
    "#Filter Function\n",
    "# used to filter the true value of the function and stores only them to the list\n",
    "def check_even(num):\n",
    "    return num % 2==0"
   ]
  },
  {
   "cell_type": "code",
   "execution_count": 8,
   "metadata": {},
   "outputs": [
    {
     "data": {
      "text/plain": [
       "[2, 8, 28, 36]"
      ]
     },
     "execution_count": 8,
     "metadata": {},
     "output_type": "execute_result"
    }
   ],
   "source": [
    "list1=[2,5,8,21,28,89,47,36]\n",
    "\n",
    "list(filter(check_even,list1))"
   ]
  },
  {
   "cell_type": "code",
   "execution_count": 2,
   "metadata": {},
   "outputs": [
    {
     "data": {
      "text/plain": [
       "[4, 9, 16]"
      ]
     },
     "execution_count": 2,
     "metadata": {},
     "output_type": "execute_result"
    }
   ],
   "source": [
    "list(map(lambda num:num**2,[2,3,4]))\n"
   ]
  },
  {
   "cell_type": "code",
   "execution_count": 16,
   "metadata": {},
   "outputs": [
    {
     "name": "stdout",
     "output_type": "stream",
     "text": [
      "Value of x is  69\n",
      "Value of x changed to  55\n",
      "The value outside func is  69\n"
     ]
    }
   ],
   "source": [
    "\n",
    "x=69\n",
    "\n",
    "def value1(x):\n",
    "    print('Value of x is ',x)\n",
    "    x=55\n",
    "    print('Value of x changed to ',x)\n",
    "\n",
    "value1(x)\n",
    "print(\"The value outside func is \",x)"
   ]
  },
  {
   "cell_type": "code",
   "execution_count": 35,
   "metadata": {},
   "outputs": [
    {
     "name": "stdout",
     "output_type": "stream",
     "text": [
      "Before calling func(), x is:  50\n",
      "This function is now using the global x!\n",
      "Because of global x is:  50\n",
      "Ran func(), changed global x to 2\n",
      "Value of x (outside of func()) is:  2\n"
     ]
    }
   ],
   "source": [
    "x = 50\n",
    "\n",
    "\n",
    "def func():\n",
    "    global x\n",
    "    print('This function is now using the global x!')\n",
    "    print('Because of global x is: ', x)\n",
    "    x = 2\n",
    "    print('Ran func(), changed global x to', x)\n",
    "\n",
    "print('Before calling func(), x is: ', x)\n",
    "func()\n",
    "print('Value of x (outside of func()) is: ', x)"
   ]
  },
  {
   "cell_type": "code",
   "execution_count": 30,
   "metadata": {},
   "outputs": [
    {
     "name": "stdout",
     "output_type": "stream",
     "text": [
      "500\n",
      "500\n"
     ]
    }
   ],
   "source": [
    "x=300\n",
    "\n",
    "def printx():\n",
    "    global x\n",
    "    x=500\n",
    "    print(x)\n",
    "\n",
    "printx()\n",
    "print(x)\n"
   ]
  },
  {
   "cell_type": "code",
   "execution_count": 33,
   "metadata": {},
   "outputs": [
    {
     "name": "stdout",
     "output_type": "stream",
     "text": [
      "Value: 2\n",
      "Value: 3\n",
      "Value: 4\n",
      "Value: hello\n"
     ]
    }
   ],
   "source": [
    "def func1(*args):\n",
    "    for i in args:\n",
    "        print(f\"Value: {i}\")\n",
    "\n",
    "func1(2,3,4,'hello')"
   ]
  },
  {
   "cell_type": "code",
   "execution_count": 42,
   "metadata": {},
   "outputs": [
    {
     "name": "stdout",
     "output_type": "stream",
     "text": [
      "My favorite fruit is pineapple\n"
     ]
    }
   ],
   "source": [
    "def myfunc(**kwargs):\n",
    "    if 'fruit' in kwargs:\n",
    "        print(f\"My favorite fruit is {kwargs['fruit']}\")  # review String Formatting and f-strings if this syntax is unfamiliar\n",
    "    else:\n",
    "        print(\"I don't like fruit\")\n",
    "        \n",
    "myfunc(fruit='pineapple')"
   ]
  },
  {
   "cell_type": "code",
   "execution_count": 43,
   "metadata": {},
   "outputs": [
    {
     "name": "stdout",
     "output_type": "stream",
     "text": [
      "first == Geeks\n",
      "mid == for\n",
      "last == Geeks\n"
     ]
    }
   ],
   "source": [
    "def myFun(**kwargs):\n",
    "    for key, value in kwargs.items():\n",
    "        print (\"%s == %s\" %(key, value))\n",
    " \n",
    "# Driver code\n",
    "myFun(first ='Geeks', mid ='for', last='Geeks')   "
   ]
  },
  {
   "cell_type": "markdown",
   "metadata": {},
   "source": [
    "## Function And Method Homework"
   ]
  },
  {
   "cell_type": "code",
   "execution_count": 4,
   "metadata": {},
   "outputs": [
    {
     "data": {
      "text/plain": [
       "4188.790204786391"
      ]
     },
     "execution_count": 4,
     "metadata": {},
     "output_type": "execute_result"
    }
   ],
   "source": [
    "import math\n",
    "def vol(radius):\n",
    "    return 4/3*math.pi*radius*radius*radius\n",
    "\n",
    "vol(10)"
   ]
  },
  {
   "cell_type": "code",
   "execution_count": 12,
   "metadata": {},
   "outputs": [
    {
     "data": {
      "text/plain": [
       "True"
      ]
     },
     "execution_count": 12,
     "metadata": {},
     "output_type": "execute_result"
    }
   ],
   "source": [
    "def ran_check(num,low,high):\n",
    "    if low<=num<=high:\n",
    "        return True\n",
    "    return False\n",
    "\n",
    "ran_check(5,5,5)"
   ]
  },
  {
   "cell_type": "code",
   "execution_count": 13,
   "metadata": {},
   "outputs": [
    {
     "name": "stdout",
     "output_type": "stream",
     "text": [
      "The number of uppercase characters:  4  and lowercase characters  17\n"
     ]
    }
   ],
   "source": [
    "def uplow(str):\n",
    "    uc=0\n",
    "    lc=0\n",
    "    for i in str:\n",
    "        if i.isupper():\n",
    "            uc+=1\n",
    "        if i.islower():\n",
    "            lc+=1\n",
    "    print(\"The number of uppercase characters: \",uc,\" and lowercase characters \",lc)\n",
    "\n",
    "uplow(\"Hey There This is Prakhar\")"
   ]
  },
  {
   "cell_type": "code",
   "execution_count": 16,
   "metadata": {},
   "outputs": [
    {
     "name": "stdout",
     "output_type": "stream",
     "text": [
      "[1, 2, 3, 4, 5]\n"
     ]
    }
   ],
   "source": [
    "def un_list(list1):\n",
    "    s=set()\n",
    "    for i in list1:\n",
    "        s.add(i)\n",
    "    print(list(s))\n",
    "    \n",
    "un_list([1,1,1,1,2,2,3,3,3,3,4,5])\n"
   ]
  },
  {
   "cell_type": "code",
   "execution_count": 18,
   "metadata": {},
   "outputs": [
    {
     "data": {
      "text/plain": [
       "-24"
      ]
     },
     "execution_count": 18,
     "metadata": {},
     "output_type": "execute_result"
    }
   ],
   "source": [
    "def mul(list2):\n",
    "    count=1\n",
    "    for i in list2:\n",
    "        count=count*i\n",
    "    return count\n",
    "\n",
    "mul([1,2,3,-4])"
   ]
  },
  {
   "cell_type": "code",
   "execution_count": 24,
   "metadata": {},
   "outputs": [
    {
     "data": {
      "text/plain": [
       "True"
      ]
     },
     "execution_count": 24,
     "metadata": {},
     "output_type": "execute_result"
    }
   ],
   "source": [
    "def pal(str):\n",
    "    revstr=str[::-1]\n",
    "    if str==revstr:\n",
    "        return True\n",
    "    return False\n",
    "\n",
    "pal(\"helleh\")"
   ]
  },
  {
   "cell_type": "code",
   "execution_count": 50,
   "metadata": {},
   "outputs": [
    {
     "data": {
      "text/plain": [
       "True"
      ]
     },
     "execution_count": 50,
     "metadata": {},
     "output_type": "execute_result"
    }
   ],
   "source": [
    "import string\n",
    "alist=list(string.ascii_lowercase)\n",
    "alistv=list(string.ascii_lowercase)\n",
    "\n",
    "def pana(str):\n",
    "    str = str.replace(\" \",'')\n",
    "    for i in str:\n",
    "        if alist[alist.index(i)]!=0:\n",
    "            alistv[alist.index(i)]=0\n",
    "    alpha=0\n",
    "    for i in alistv:\n",
    "        if i!=0:\n",
    "            return False\n",
    "    return True\n",
    "\n",
    "pana(\"a quick brown fox jumps over the lazy dog\")\n",
    "pana(\"\")"
   ]
  },
  {
   "cell_type": "markdown",
   "metadata": {},
   "source": [
    "### METHOD 2"
   ]
  },
  {
   "cell_type": "code",
   "execution_count": null,
   "metadata": {},
   "outputs": [],
   "source": [
    "import string\n",
    "\n",
    "def ispangram(str1, alphabet=string.ascii_lowercase): \n",
    "    # Create a set of the alphabet\n",
    "    alphaset = set(alphabet)  \n",
    "    \n",
    "    # Remove spaces from str1\n",
    "    str1 = str1.replace(\" \",'')\n",
    "    \n",
    "    # Lowercase all strings in the passed in string\n",
    "    # Recall we assume no punctuation \n",
    "    str1 = str1.lower()\n",
    "    \n",
    "    # Grab all unique letters in the string as a set\n",
    "    str1 = set(str1)\n",
    "    \n",
    "    # Now check that the alpahbet set is same as string set\n",
    "    return str1 == alphaset"
   ]
  },
  {
   "cell_type": "code",
   "execution_count": 2,
   "metadata": {},
   "outputs": [
    {
     "data": {
      "text/plain": [
       "6.0"
      ]
     },
     "execution_count": 2,
     "metadata": {},
     "output_type": "execute_result"
    }
   ],
   "source": [
    "def myfunc(*args):\n",
    "    return sum(args)*.05\n",
    "\n",
    "myfunc(40,60,20)"
   ]
  },
  {
   "cell_type": "code",
   "execution_count": 21,
   "metadata": {},
   "outputs": [
    {
     "name": "stdout",
     "output_type": "stream",
     "text": [
      "1\n",
      "4\n",
      "9\n",
      "16\n",
      "25\n",
      "36\n",
      "49\n",
      "64\n",
      "81\n",
      "100\n",
      "121\n"
     ]
    }
   ],
   "source": [
    "if __name__ == '__main__':\n",
    "    n = int(input())\n",
    "    \n",
    "    if(n>1 and n<20):\n",
    "        i=list(range(1,n))\n",
    "    \n",
    "        for j in i:\n",
    "            print(j**2)"
   ]
  },
  {
   "cell_type": "code",
   "execution_count": 13,
   "metadata": {},
   "outputs": [
    {
     "name": "stdout",
     "output_type": "stream",
     "text": [
      "[[0, 0, 0], [0, 0, 1], [0, 1, 0], [1, 0, 0], [1, 1, 1]]\n"
     ]
    }
   ],
   "source": [
    "\n",
    "x, y, z, n = (int(input()) for _ in range(4))\n",
    "print ([[a,b,c] for a in range(0,x+1) for b in range(0,y+1) for c in range(0,z+1) if a + b + c != n ])"
   ]
  },
  {
   "cell_type": "code",
   "execution_count": 20,
   "metadata": {},
   "outputs": [
    {
     "name": "stdout",
     "output_type": "stream",
     "text": [
      "[1, 1, 2, 3]\n"
     ]
    }
   ],
   "source": [
    "if __name__ == '__main__':\n",
    "    n = int(input())\n",
    "    arr = list(map(int, input().split()))\n",
    "    print(arr)"
   ]
  },
  {
   "cell_type": "code",
   "execution_count": 22,
   "metadata": {},
   "outputs": [
    {
     "name": "stdout",
     "output_type": "stream",
     "text": [
      "-1\n"
     ]
    }
   ],
   "source": [
    "if __name__ == '__main__':\n",
    "    n = int(input())\n",
    "    if(2<=n<=10):\n",
    "        arr = list(map(int, input().split()))\n",
    "        max=0\n",
    "        max2=-1\n",
    "        for i in arr:\n",
    "            if(-100<=i<=100):\n",
    "                if (i>max):\n",
    "                    max2=max \n",
    "                    max=i\n",
    "                elif(i<max and max2<i):\n",
    "                    max2=i\n",
    "           \n",
    "           \n",
    "        print(max2)\n"
   ]
  },
  {
   "cell_type": "code",
   "execution_count": 49,
   "metadata": {},
   "outputs": [
    {
     "name": "stdout",
     "output_type": "stream",
     "text": [
      "['Berry', 'Harry']\n",
      "Berry\n",
      "Harry\n"
     ]
    }
   ],
   "source": [
    "if __name__ == '__main__':\n",
    "\n",
    "    listgrade=[]\n",
    "    # for _ in range(int(input())):\n",
    "    #     name = input()\n",
    "    #     score = float(input())\n",
    "        \n",
    "    #     listgrade.append([name,score])\n",
    "\n",
    "listgrade=[[\"Harry\",37.21],[\"Berry\",37.21],[\"Tina\",37.2],[\"Akriti\",41],[\"Harsh\",39]]\n",
    "maxg2=101\n",
    "maxg=100\n",
    "count=0\n",
    "for i,j in listgrade:\n",
    " \n",
    "    if j<maxg:\n",
    "        maxg2=maxg\n",
    "        maxg=j\n",
    "    elif (j>maxg and maxg2>j):\n",
    "        maxg2=j\n",
    "\n",
    "\n",
    "listname=[]\n",
    "for i,j in listgrade:\n",
    "    if j==maxg2:\n",
    "        count+=1\n",
    "        listname.append(i)\n",
    "\n",
    "listname.sort()\n",
    "\n",
    "print(listname)\n",
    "for i in listname:\n",
    "    print(i)"
   ]
  },
  {
   "cell_type": "code",
   "execution_count": 50,
   "metadata": {},
   "outputs": [
    {
     "data": {
      "text/plain": [
       "['p', 'y', 't', 'h', 'o', 'n']"
      ]
     },
     "execution_count": 50,
     "metadata": {},
     "output_type": "execute_result"
    }
   ],
   "source": [
    "x=\"python\"\n",
    "list(x)"
   ]
  },
  {
   "cell_type": "code",
   "execution_count": 7,
   "metadata": {},
   "outputs": [
    {
     "name": "stdout",
     "output_type": "stream",
     "text": [
      "2 3 4 5\n"
     ]
    }
   ],
   "source": []
  },
  {
   "cell_type": "code",
   "execution_count": 6,
   "metadata": {},
   "outputs": [
    {
     "name": "stdout",
     "output_type": "stream",
     "text": [
      "['h', 'e', 'l', 'l', 'o']\n"
     ]
    }
   ],
   "source": []
  },
  {
   "cell_type": "code",
   "execution_count": 12,
   "metadata": {},
   "outputs": [
    {
     "name": "stdout",
     "output_type": "stream",
     "text": [
      "12 \t abc\n"
     ]
    }
   ],
   "source": [
    "a,b=input().split()\n",
    "print(a,\"\\t\",b)"
   ]
  },
  {
   "cell_type": "code",
   "execution_count": 16,
   "metadata": {},
   "outputs": [
    {
     "name": "stdout",
     "output_type": "stream",
     "text": [
      "[3.0, 4.0, 5.0]\n"
     ]
    }
   ],
   "source": [
    "if __name__ == '__main__':\n",
    "    n = int(input())\n",
    "    student_marks = {}\n",
    "    for _ in range(n):\n",
    "        name, *line = input().split()\n",
    "        \n",
    "        scores = list(map(float, line))\n",
    "        student_marks[name] = scores\n",
    "    query_name = input()\n",
    "    print(scores)"
   ]
  },
  {
   "cell_type": "code",
   "execution_count": 34,
   "metadata": {},
   "outputs": [
    {
     "name": "stdout",
     "output_type": "stream",
     "text": [
      "33.00\n"
     ]
    }
   ],
   "source": [
    "if __name__ == '__main__':\n",
    "    n = int(input())\n",
    "    student_marks = {}\n",
    "    for _ in range(n):\n",
    "        name, *line = input().split()\n",
    "        scores = list(map(float, line))\n",
    "        student_marks[name] = scores\n",
    "    query_name = input()\n",
    "    summ=float(sum(student_marks[query_name]))\n",
    "    length=len(student_marks[query_name])\n",
    "        \n",
    "avg=(float)(summ/length)\n",
    "print(\"%.2f\"%avg)"
   ]
  },
  {
   "cell_type": "code",
   "execution_count": null,
   "metadata": {},
   "outputs": [],
   "source": []
  },
  {
   "cell_type": "code",
   "execution_count": null,
   "metadata": {},
   "outputs": [],
   "source": []
  },
  {
   "cell_type": "code",
   "execution_count": 18,
   "metadata": {},
   "outputs": [
    {
     "name": "stdout",
     "output_type": "stream",
     "text": [
      "append\n",
      "['3']\n",
      "1\n",
      "[3]\n",
      "append\n",
      "['2']\n",
      "1\n",
      "[3, 2]\n",
      "print\n",
      "[]\n",
      "0\n",
      "[3, 2]\n",
      "[3, 2]\n"
     ]
    }
   ],
   "source": [
    "if __name__ == '__main__':\n",
    "    N = int(input())\n",
    "    lista=[]\n",
    "\n",
    "    for i in range(0,N):\n",
    "        command,*num=input().split()\n",
    "\n",
    "        if len(num)>1:\n",
    "            numint=list(map(int,num))\n",
    "        else:\n",
    "            numint=int(*num)\n",
    "\n",
    "\n",
    "        if (command==\"print\"):\n",
    "            print(lista)\n",
    "            \n",
    "        if(command==\"remove\"):\n",
    "            lista.remove(numint)\n",
    "            \n",
    "        if(command==\"append\"):\n",
    "            lista.append(numint)\n",
    "            \n",
    "        if(command==\"reverse\"):\n",
    "            lista.reverse()\n",
    "            \n",
    "        if(command==\"pop\"):\n",
    "            lista.pop()\n",
    "            \n",
    "        if(command==\"insert\"):\n",
    "            lista.insert(numint[0],numint[1])\n",
    "            \n",
    "        if(command==\"sort\"):\n",
    "            lista.sort()\n",
    "        print(lista)\n",
    "                \n",
    "        "
   ]
  },
  {
   "cell_type": "code",
   "execution_count": 42,
   "metadata": {},
   "outputs": [
    {
     "name": "stdout",
     "output_type": "stream",
     "text": [
      "<class 'str'> \t  hello\n",
      "<class 'list'> \t ['12', '23']\n",
      "<class 'list'> [12, 23]\n"
     ]
    }
   ],
   "source": [
    "command,*num=input().split()\n",
    "\n",
    "print(type(command),\"\\t \",command)\n",
    "print(type(num),\"\\t\",num)\n",
    "\n",
    "numb=list(map(int,num))\n",
    "\n",
    "print(type(numb),numb)"
   ]
  },
  {
   "cell_type": "code",
   "execution_count": 17,
   "metadata": {},
   "outputs": [
    {
     "name": "stdout",
     "output_type": "stream",
     "text": [
      "{41, 37.2, 37.21, 39}\n",
      "[41, 37.2, 37.21, 39]\n",
      "[37.2, 37.21, 39, 41]\n",
      "37.21\n",
      "Berry\n",
      "Harry\n"
     ]
    }
   ],
   "source": [
    "marksheet = []\n",
    "# for _ in range(0,int(input())):\n",
    "#     marksheet.append([input(), float(input())])\n",
    "marksheet.append([\"Berry\",37.21])\n",
    "marksheet.append([\"Harry\",37.21])\n",
    "marksheet.append([\"Tina\",37.2])\n",
    "marksheet.append([\"Akriti\",41])\n",
    "marksheet.append([\"Harsh\",39])\n",
    "second_highest = sorted(list(set([marks for name, marks in marksheet])))[1]\n",
    "list1 = set([marks for name, marks in marksheet])\n",
    "list2 = list(set([marks for name, marks in marksheet]))\n",
    "list3 = sorted(list(set([marks for name, marks in marksheet])))\n",
    "print(list1)\n",
    "print(list2)\n",
    "print(list3)\n",
    "print(second_highest)\n",
    "print('\\n'.join([a for a,b in sorted(marksheet) if b == second_highest]))"
   ]
  },
  {
   "cell_type": "code",
   "execution_count": 23,
   "metadata": {},
   "outputs": [
    {
     "name": "stdout",
     "output_type": "stream",
     "text": [
      "{32, 98, 67, 21, 23}\n",
      "[32, 98, 67, 21, 23]\n",
      "[21, 23, 32, 67, 98]\n",
      "{'A', 'f', 'b', 'c', 'd'}\n",
      "['A', 'f', 'b', 'c', 'd']\n",
      "['A', 'b', 'c', 'd', 'f']\n"
     ]
    }
   ],
   "source": [
    "list1=[(\"A\",23),(\"c\",21),(\"f\",98),(\"d\",23),(\"b\",67),(\"b\",32)]\n",
    "\n",
    "set1=set([b for a,b in list1])\n",
    "list11=list(set1)\n",
    "list12=sorted(set1)\n",
    "print(set1)\n",
    "print(list11)\n",
    "print(list12)\n",
    "\n",
    "set2=set([a for a,b in list1])\n",
    "list21=list(set2)\n",
    "list22=sorted(list21)\n",
    "print(set2)\n",
    "print(list21)\n",
    "print(list22)\n"
   ]
  },
  {
   "cell_type": "code",
   "execution_count": null,
   "metadata": {},
   "outputs": [],
   "source": []
  },
  {
   "cell_type": "code",
   "execution_count": null,
   "metadata": {},
   "outputs": [],
   "source": []
  }
 ],
 "metadata": {
  "interpreter": {
   "hash": "31f2aee4e71d21fbe5cf8b01ff0e069b9275f58929596ceb00d14d90e3e16cd6"
  },
  "kernelspec": {
   "display_name": "Python 3.8.9 64-bit",
   "language": "python",
   "name": "python3"
  },
  "language_info": {
   "codemirror_mode": {
    "name": "ipython",
    "version": 3
   },
   "file_extension": ".py",
   "mimetype": "text/x-python",
   "name": "python",
   "nbconvert_exporter": "python",
   "pygments_lexer": "ipython3",
   "version": "3.9.6"
  },
  "orig_nbformat": 4
 },
 "nbformat": 4,
 "nbformat_minor": 2
}

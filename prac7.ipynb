{
 "cells": [
  {
   "cell_type": "code",
   "execution_count": 6,
   "metadata": {},
   "outputs": [
    {
     "name": "stdout",
     "output_type": "stream",
     "text": [
      "Adding\n",
      "40\n"
     ]
    }
   ],
   "source": [
    "num1=10\n",
    "num2='30'\n",
    "\n",
    "try:\n",
    "    result=num1+num2\n",
    "except:\n",
    "    print(\"Looks like you arent adding correctly\")\n",
    "else:\n",
    "    print(\"Adding\")\n",
    "    print(result)"
   ]
  },
  {
   "cell_type": "code",
   "execution_count": null,
   "metadata": {},
   "outputs": [],
   "source": [
    "try:\n",
    "    f=open(\"testfile.txt\",'w')\n",
    "    f.write(\"Opening a test file\")\n",
    "except TypeError:\n",
    "    print(\"File could not be opened\")\n",
    "\n",
    "except OSError:\n",
    "    print(\"There is an OS Error\")\n",
    "finally:\n",
    "    print(\"I always run\")\n",
    "\n"
   ]
  },
  {
   "cell_type": "markdown",
   "metadata": {},
   "source": [
    "## SOLUTIONS TO PROBLEMS"
   ]
  },
  {
   "cell_type": "code",
   "execution_count": 2,
   "metadata": {},
   "outputs": [
    {
     "name": "stdout",
     "output_type": "stream",
     "text": [
      "There is an error\n",
      "This is the finally block\n"
     ]
    }
   ],
   "source": [
    "try:\n",
    "    for i in ['a','b','c']:\n",
    "        print(i**2)\n",
    "except:\n",
    "    print(\"There is an error\")\n",
    "finally:\n",
    "    print(\"This is the finally block\")"
   ]
  },
  {
   "cell_type": "code",
   "execution_count": null,
   "metadata": {},
   "outputs": [],
   "source": [
    "try:\n",
    "    x = 5\n",
    "    y = 0\n",
    "\n",
    "    z = x/y\n",
    "except:\n",
    "    print(\"There is an error\")\n",
    "finally:\n",
    "    print(\"All done\")"
   ]
  },
  {
   "cell_type": "code",
   "execution_count": 3,
   "metadata": {},
   "outputs": [],
   "source": [
    "def ask():\n",
    "    while True:\n",
    "\n",
    "        try:\n",
    "            a=int(input(\"Enter an interger to square\"))\n",
    "            sq=a**2\n",
    "        except:\n",
    "            print(\"There is an error.\")\n",
    "            continue\n",
    "        else:\n",
    "            print(\"The square is \",sq)\n",
    "            break\n",
    "\n",
    "        finally:\n",
    "            print(\"Its the final block\")\n"
   ]
  },
  {
   "cell_type": "code",
   "execution_count": 4,
   "metadata": {},
   "outputs": [
    {
     "name": "stdout",
     "output_type": "stream",
     "text": [
      "There is an error.\n",
      "Its the final block\n",
      "There is an error.\n",
      "Its the final block\n",
      "There is an error.\n",
      "Its the final block\n",
      "The square is  144\n",
      "Its the final block\n"
     ]
    }
   ],
   "source": [
    "ask()"
   ]
  },
  {
   "cell_type": "code",
   "execution_count": null,
   "metadata": {},
   "outputs": [],
   "source": []
  }
 ],
 "metadata": {
  "interpreter": {
   "hash": "31f2aee4e71d21fbe5cf8b01ff0e069b9275f58929596ceb00d14d90e3e16cd6"
  },
  "kernelspec": {
   "display_name": "Python 3.8.9 64-bit",
   "language": "python",
   "name": "python3"
  },
  "language_info": {
   "codemirror_mode": {
    "name": "ipython",
    "version": 3
   },
   "file_extension": ".py",
   "mimetype": "text/x-python",
   "name": "python",
   "nbconvert_exporter": "python",
   "pygments_lexer": "ipython3",
   "version": "3.8.9"
  },
  "orig_nbformat": 4
 },
 "nbformat": 4,
 "nbformat_minor": 2
}

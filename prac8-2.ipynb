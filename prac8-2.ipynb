{
 "cells": [
  {
   "cell_type": "code",
   "execution_count": 18,
   "metadata": {},
   "outputs": [],
   "source": [
    "ranks=(\"Two\",\"Three\",\"Four\",\"Five\",\"Six\",\"Seven\",\"Eight\",\"Nine\",\"Ten\",\"Jack\",\"Queen\",\"King\")\n",
    "\n",
    "suits=(\"Hearts\",\"Clubs\",\"Diamond\",\"Spade\")\n",
    "\n",
    "values={\"Two\":2,\"Three\":3,\"Four\":4,\"Five\":5,\"Six\":6,\"Seven\":7,\"Eight\":8,\"Nine\":9,'Ten':10,\"Jack\":10,\"Queen\":10,\"King\":10}"
   ]
  },
  {
   "cell_type": "code",
   "execution_count": 19,
   "metadata": {},
   "outputs": [],
   "source": [
    "class Card:\n",
    "\n",
    "    def __init__(self,suit,rank):\n",
    "        self.suit=suit\n",
    "        self.rank=rank\n",
    "        self.value=values[rank]\n",
    "\n",
    "\n",
    "    def __str__(self):\n",
    "        return self.rank+\" of \"+self.suit\n"
   ]
  },
  {
   "cell_type": "code",
   "execution_count": 37,
   "metadata": {},
   "outputs": [],
   "source": [
    "import random\n",
    "class Deck:\n",
    "    def __init__(self):\n",
    "        self.all_cards=[]\n",
    "\n",
    "        for rank in ranks:\n",
    "            for suit in suits:\n",
    "                temp=Card(suit,rank)\n",
    "                self.all_cards.append(temp)\n",
    "    \n",
    "    def __str__(self):\n",
    "        deck_comp=''\n",
    "        for card in self.all_cards:\n",
    "            deck_comp=deck_comp +'\\n'+ card.__str__()\n",
    "        return deck_comp\n",
    "    \n",
    "    def remove_one(self):\n",
    "        return self.all_cards.pop()\n",
    "\n",
    "    def shufflecard(self):\n",
    "        random.shuffle(self.all_cards)\n",
    "    "
   ]
  },
  {
   "cell_type": "code",
   "execution_count": 38,
   "metadata": {},
   "outputs": [
    {
     "name": "stdout",
     "output_type": "stream",
     "text": [
      "\n",
      "Three of Hearts\n",
      "Nine of Clubs\n",
      "Queen of Diamond\n",
      "Queen of Clubs\n",
      "King of Clubs\n",
      "Four of Hearts\n",
      "Four of Diamond\n",
      "Seven of Hearts\n",
      "Seven of Spade\n",
      "Two of Spade\n",
      "Eight of Hearts\n",
      "Five of Diamond\n",
      "Jack of Clubs\n",
      "Ten of Clubs\n",
      "Three of Clubs\n",
      "Ten of Hearts\n",
      "Seven of Clubs\n",
      "King of Diamond\n",
      "Eight of Diamond\n",
      "Three of Diamond\n",
      "King of Hearts\n",
      "Two of Clubs\n",
      "Nine of Diamond\n",
      "Jack of Hearts\n",
      "Nine of Spade\n",
      "Jack of Diamond\n",
      "Ten of Spade\n",
      "Five of Spade\n",
      "Three of Spade\n",
      "Six of Clubs\n",
      "Five of Clubs\n",
      "Queen of Hearts\n",
      "Nine of Hearts\n",
      "Four of Spade\n",
      "Four of Clubs\n",
      "Eight of Spade\n",
      "Two of Hearts\n",
      "Jack of Spade\n",
      "Two of Diamond\n",
      "Ten of Diamond\n",
      "King of Spade\n",
      "Six of Diamond\n",
      "Five of Hearts\n",
      "Six of Spade\n",
      "Seven of Diamond\n",
      "Queen of Spade\n",
      "Six of Hearts\n",
      "Eight of Clubs\n"
     ]
    }
   ],
   "source": [
    "test_deck=Deck()\n",
    "test_deck.shufflecard()\n",
    "print(test_deck)\n",
    "        "
   ]
  },
  {
   "cell_type": "markdown",
   "metadata": {},
   "source": [
    "REST IS IN THE PYTHON NOTEBOOK OF THE COURSE\n"
   ]
  },
  {
   "cell_type": "code",
   "execution_count": null,
   "metadata": {},
   "outputs": [],
   "source": []
  }
 ],
 "metadata": {
  "interpreter": {
   "hash": "31f2aee4e71d21fbe5cf8b01ff0e069b9275f58929596ceb00d14d90e3e16cd6"
  },
  "kernelspec": {
   "display_name": "Python 3.8.9 64-bit",
   "language": "python",
   "name": "python3"
  },
  "language_info": {
   "codemirror_mode": {
    "name": "ipython",
    "version": 3
   },
   "file_extension": ".py",
   "mimetype": "text/x-python",
   "name": "python",
   "nbconvert_exporter": "python",
   "pygments_lexer": "ipython3",
   "version": "3.8.9"
  },
  "orig_nbformat": 4
 },
 "nbformat": 4,
 "nbformat_minor": 2
}

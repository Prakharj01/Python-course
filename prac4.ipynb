{
 "cells": [
  {
   "cell_type": "code",
   "execution_count": 4,
   "metadata": {},
   "outputs": [
    {
     "data": {
      "text/plain": [
       "12"
      ]
     },
     "execution_count": 4,
     "metadata": {},
     "output_type": "execute_result"
    }
   ],
   "source": [
    "result = input(\"Please enter a number: \")\n",
    "result\n",
    "int(result)"
   ]
  },
  {
   "cell_type": "code",
   "execution_count": 6,
   "metadata": {},
   "outputs": [
    {
     "data": {
      "text/plain": [
       "1"
      ]
     },
     "execution_count": 6,
     "metadata": {},
     "output_type": "execute_result"
    }
   ],
   "source": [
    "def userinput():\n",
    "\n",
    "    num='ab'\n",
    "\n",
    "    while(num.isdigit()==False):\n",
    "        num=input(\"Enter the number: \")\n",
    "\n",
    "    return int(num)\n",
    "\n",
    "userinput()"
   ]
  },
  {
   "cell_type": "code",
   "execution_count": 3,
   "metadata": {},
   "outputs": [
    {
     "data": {
      "text/plain": [
       "12"
      ]
     },
     "execution_count": 3,
     "metadata": {},
     "output_type": "execute_result"
    }
   ],
   "source": [
    "from IPython.display import clear_output\n",
    "def userinput():\n",
    "\n",
    "    num='ab'\n",
    "\n",
    "    while(num.isdigit()==False):\n",
    "        num=input(\"Enter the number: \")\n",
    "\n",
    "    return int(num)\n",
    "\n",
    "userinput()\n"
   ]
  },
  {
   "cell_type": "code",
   "execution_count": 57,
   "metadata": {},
   "outputs": [
    {
     "name": "stdout",
     "output_type": "stream",
     "text": [
      "Sorry, but you did not choose a value in the correct range (0,1,2)\n"
     ]
    },
    {
     "data": {
      "text/plain": [
       "2"
      ]
     },
     "execution_count": 57,
     "metadata": {},
     "output_type": "execute_result"
    }
   ],
   "source": [
    "def user_choice():\n",
    "    \n",
    "    # This original choice value can be anything that isn't an integer\n",
    "    choice = 'wrong'\n",
    "    \n",
    "    # While the choice is not a digit, keep asking for input.\n",
    "    while choice not in ['0','1','2']:\n",
    "        \n",
    "        # we shouldn't convert here, otherwise we get an error on a wrong input\n",
    "        choice = input(\"Choose one of these numbers (0,1,2): \")\n",
    "        \n",
    "        if choice not in ['0','1','2']:\n",
    "            # THIS CLEARS THE CURRENT OUTPUT BELOW THE CELL\n",
    "            clear_output()\n",
    "            \n",
    "            print(\"Sorry, but you did not choose a value in the correct range (0,1,2)\")\n",
    "            \n",
    "    \n",
    "    # Optionally you can clear everything after running the function\n",
    "    # clear_output()\n",
    "    \n",
    "    # We can convert once the while loop above has confirmed we have a digit.\n",
    "    return int(choice)\n",
    "\n",
    "user_choice()"
   ]
  },
  {
   "cell_type": "markdown",
   "metadata": {},
   "source": [
    "# TICTACTOE MILESTONE PROJECT 1"
   ]
  },
  {
   "cell_type": "code",
   "execution_count": 56,
   "metadata": {},
   "outputs": [
    {
     "name": "stdout",
     "output_type": "stream",
     "text": [
      "   | 1 \t   | 2 \t   | 3 \t\n",
      " --|-------|-------|----\n",
      "   | 4 \t   | 5 \t   | 6 \t\n",
      " --|-------|-------|----\n",
      "   | 7 \t   | 8 \t   | 9 \tThis is the standard board\n",
      "\n",
      "\n",
      "\n",
      "X \t2 \t3 \t\n",
      "4 \t5 \t6 \t\n",
      "7 \t8 \t9 \t\n",
      "\n",
      "\n",
      "X \t2 \tO \t\n",
      "4 \t5 \t6 \t\n",
      "7 \t8 \t9 \t\n",
      "\n",
      "\n",
      "X \t2 \tO \t\n",
      "4 \tX \t6 \t\n",
      "7 \t8 \t9 \t\n",
      "\n",
      "\n",
      "X \tO \tO \t\n",
      "4 \tX \t6 \t\n",
      "7 \t8 \t9 \t\n",
      "\n",
      "\n",
      "X \tO \tO \t\n",
      "4 \tX \t6 \t\n",
      "7 \t8 \tX \tPlayer  1  won\n"
     ]
    }
   ],
   "source": [
    "from IPython.display import clear_output\n",
    "from math import floor\n",
    "def printempty():\n",
    "    for i in range(1,10,1):\n",
    "        print(\"   |\",i,\"\\t\",end=\"\"),\n",
    "        if i%3==0 and i!=9:\n",
    "            print(\"\\n --|-------|-------|----\"),\n",
    "\n",
    "def inputsym(player,placevalue,board):\n",
    "    if player==1:\n",
    "        sym='X'\n",
    "    if player==2:\n",
    "        sym='O'\n",
    "    placevalue=placevalue-1\n",
    "    row=floor(placevalue/3)\n",
    "    column=placevalue%3\n",
    "    #print(\"Row is \",row,\"Column is \",column)\n",
    "    board[row][column]=sym\n",
    "    \n",
    "    return board\n",
    "\n",
    "def tictacprint(board):\n",
    "    print(\"\\n\")\n",
    "    for i in range(0,3,1):\n",
    "        for j in range(0,3,1):\n",
    "            if j==0:\n",
    "                print(\"\\n\",end=\"\"),\n",
    "            print(board[i][j],\"\\t\",end=\"\"),\n",
    "            \n",
    "\n",
    "def checkwon(board):\n",
    "    for i in range(0,3,1):\n",
    "        if (board[i][0]==board[i][1]==board[i][2]) :\n",
    "            if board[i][0]!=-1:\n",
    "                return True\n",
    "        if board[0][i]==board[1][i]==board[2][i]:\n",
    "            if board[i][0]!=-1:\n",
    "                return True\n",
    "\n",
    "    if board[0][0]==board[1][1]==board[2][2]:\n",
    "         if board[i][0]!=-1:\n",
    "            return True\n",
    "    if board[0][2]==board[1][1]==board[2][0]:\n",
    "         if board[i][0]!=-1:\n",
    "            return True\n",
    "    \n",
    "    return False\n",
    "\n",
    "def tictactoe():\n",
    "    won=False\n",
    "    chance=0\n",
    "    board=[[1,2,3],[4,5,6],[7,8,9]]\n",
    "    places=[]\n",
    "    playerwon=-1\n",
    "\n",
    "    printempty()\n",
    "    print(\"This is the standard board\")\n",
    "    while(won!=True and chance<10):\n",
    "        chance+=1\n",
    "\n",
    "        p1=int(input(\"Enter input for player 1:\"))\n",
    "        if p1 not in places:\n",
    "            places.append(p1)\n",
    "            board=inputsym(1,p1,board)\n",
    "            tictacprint(board)\n",
    "        else:\n",
    "            print(\"Place already occupied\")\n",
    "        \n",
    "        won=checkwon(board)\n",
    "        if(won):\n",
    "            playerwon=1\n",
    "            return playerwon\n",
    "        p2=int(input(\"Enter input for player 2:\"))\n",
    "        \n",
    "        if p2 not in places:\n",
    "            places.append(p2)\n",
    "            board=inputsym(2,p2,board)\n",
    "            tictacprint(board)\n",
    "        else:\n",
    "            print(\"Place already occupied\")\n",
    "        won=checkwon(board)\n",
    "        if(won):\n",
    "            playerwon=2\n",
    "            return playerwon\n",
    "        \n",
    "    return -1\n",
    "\n",
    "num=tictactoe()\n",
    "\n",
    "print(\"Player \",num,\" won\")\n"
   ]
  },
  {
   "cell_type": "code",
   "execution_count": null,
   "metadata": {},
   "outputs": [],
   "source": [
    "\n"
   ]
  }
 ],
 "metadata": {
  "interpreter": {
   "hash": "31f2aee4e71d21fbe5cf8b01ff0e069b9275f58929596ceb00d14d90e3e16cd6"
  },
  "kernelspec": {
   "display_name": "Python 3.8.9 64-bit",
   "language": "python",
   "name": "python3"
  },
  "language_info": {
   "codemirror_mode": {
    "name": "ipython",
    "version": 3
   },
   "file_extension": ".py",
   "mimetype": "text/x-python",
   "name": "python",
   "nbconvert_exporter": "python",
   "pygments_lexer": "ipython3",
   "version": "3.9.6"
  },
  "orig_nbformat": 4
 },
 "nbformat": 4,
 "nbformat_minor": 2
}

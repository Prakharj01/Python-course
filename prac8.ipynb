{
 "cells": [
  {
   "cell_type": "code",
   "execution_count": 347,
   "metadata": {},
   "outputs": [],
   "source": [
    "suits = ('Hearts', 'Diamonds', 'Spades', 'Clubs')\n",
    "ranks = ('Two', 'Three', 'Four', 'Five', 'Six', 'Seven', 'Eight', 'Nine', 'Ten', 'Jack', 'Queen', 'King', 'Ace')\n",
    "values = {'Two':2, 'Three':3, 'Four':4, 'Five':5, 'Six':6, 'Seven':7, 'Eight':8, \n",
    "            'Nine':9, 'Ten':10, 'Jack':11, 'Queen':12, 'King':13, 'Ace':14}\n",
    "class Card:\n",
    "\n",
    "    def __init__(self,suit,rank):\n",
    "        self.suit=suit\n",
    "        self.rank=rank\n",
    "        self.value=values[rank]\n",
    "    def __str__(self):\n",
    "        return \"The card is \"+self.rank+ \" of \"+ self.suit\n",
    "\n",
    "three_of_hearts=Card(\"Hearts\",\"Three\")\n"
   ]
  },
  {
   "cell_type": "code",
   "execution_count": 348,
   "metadata": {},
   "outputs": [
    {
     "data": {
      "text/plain": [
       "'Hearts'"
      ]
     },
     "execution_count": 348,
     "metadata": {},
     "output_type": "execute_result"
    }
   ],
   "source": [
    "\n",
    "three_of_hearts.suit"
   ]
  },
  {
   "cell_type": "code",
   "execution_count": 349,
   "metadata": {},
   "outputs": [
    {
     "data": {
      "text/plain": [
       "3"
      ]
     },
     "execution_count": 349,
     "metadata": {},
     "output_type": "execute_result"
    }
   ],
   "source": [
    "three_of_hearts.value"
   ]
  },
  {
   "cell_type": "code",
   "execution_count": 350,
   "metadata": {},
   "outputs": [
    {
     "name": "stdout",
     "output_type": "stream",
     "text": [
      "The card is Three of Hearts\n"
     ]
    }
   ],
   "source": [
    "print(three_of_hearts)"
   ]
  },
  {
   "cell_type": "code",
   "execution_count": 351,
   "metadata": {},
   "outputs": [],
   "source": [
    "import random\n",
    "class Deck:\n",
    "\n",
    "    def __init__(self):\n",
    "        self.all_cards=[]\n",
    "        for rank in ranks:\n",
    "            for suit in suits:\n",
    "                created_card=Card(suit,rank)\n",
    "                self.all_cards.append(created_card)\n",
    "\n",
    "    def shuffle(self):\n",
    "        random.shuffle(self.all_cards)\n",
    "\n",
    "    def deal_one(self):\n",
    "        return self.all_cards.pop()"
   ]
  },
  {
   "cell_type": "code",
   "execution_count": 352,
   "metadata": {},
   "outputs": [],
   "source": [
    "new_deck=Deck()"
   ]
  },
  {
   "cell_type": "code",
   "execution_count": 353,
   "metadata": {},
   "outputs": [],
   "source": [
    "new_deck.shuffle()"
   ]
  },
  {
   "cell_type": "code",
   "execution_count": 354,
   "metadata": {},
   "outputs": [
    {
     "name": "stdout",
     "output_type": "stream",
     "text": [
      "The card is Four of Diamonds\n"
     ]
    }
   ],
   "source": [
    "mycard=new_deck.deal_one()\n",
    "print(mycard)"
   ]
  },
  {
   "cell_type": "code",
   "execution_count": 355,
   "metadata": {},
   "outputs": [
    {
     "name": "stdout",
     "output_type": "stream",
     "text": [
      "51\n"
     ]
    }
   ],
   "source": [
    "print(len(new_deck.all_cards))"
   ]
  },
  {
   "cell_type": "code",
   "execution_count": 356,
   "metadata": {},
   "outputs": [],
   "source": [
    "class player:\n",
    "\n",
    "    def __init__(self,name):\n",
    "        self.name=name\n",
    "\n",
    "        self.all_cards=[]\n",
    "    \n",
    "    def add_cards(self,new_card):\n",
    "        if(type([])==type(new_card)):\n",
    "            self.all_cards.extend(new_card)\n",
    "        else:\n",
    "            self.all_cards.append(new_card)\n",
    "\n",
    "    def remove_one(self):\n",
    "        return self.all_cards.pop(0)\n",
    "\n",
    "    def __str__(self):\n",
    "        return (f\"Player {self.name} has {len(self.all_cards)} cards. \")\n"
   ]
  },
  {
   "cell_type": "code",
   "execution_count": 357,
   "metadata": {},
   "outputs": [
    {
     "name": "stdout",
     "output_type": "stream",
     "text": [
      "Player Prakhar has 0 cards. \n"
     ]
    }
   ],
   "source": [
    "prakhar=player(\"Prakhar\")\n",
    "\n",
    "print(prakhar)\n"
   ]
  },
  {
   "cell_type": "code",
   "execution_count": 358,
   "metadata": {},
   "outputs": [
    {
     "name": "stdout",
     "output_type": "stream",
     "text": [
      "Player Prakhar has 1 cards. \n"
     ]
    }
   ],
   "source": [
    "prakhar.add_cards(mycard)\n",
    "print(prakhar)\n"
   ]
  },
  {
   "cell_type": "code",
   "execution_count": 359,
   "metadata": {},
   "outputs": [
    {
     "name": "stdout",
     "output_type": "stream",
     "text": [
      "Player Prakhar has 4 cards. \n"
     ]
    }
   ],
   "source": [
    "prakhar.add_cards([mycard,mycard,mycard])\n",
    "print(prakhar)"
   ]
  },
  {
   "cell_type": "code",
   "execution_count": 360,
   "metadata": {},
   "outputs": [
    {
     "name": "stdout",
     "output_type": "stream",
     "text": [
      "The card is Four of Diamonds\n"
     ]
    }
   ],
   "source": [
    "del_card=prakhar.remove_one()\n",
    "\n",
    "print(del_card)"
   ]
  },
  {
   "cell_type": "code",
   "execution_count": 361,
   "metadata": {},
   "outputs": [],
   "source": [
    "player_one=player(\"One\")\n",
    "player_two=player(\"Two\")\n",
    "\n",
    "ndeck=Deck()\n",
    "ndeck.shuffle()\n",
    "for i in range (26):\n",
    "    player_one.add_cards(ndeck.deal_one())\n",
    "    player_two.add_cards(ndeck.deal_one())\n",
    "\n",
    "    "
   ]
  },
  {
   "cell_type": "code",
   "execution_count": 362,
   "metadata": {},
   "outputs": [],
   "source": [
    "game_on=True\n",
    "round_num=0"
   ]
  },
  {
   "cell_type": "code",
   "execution_count": 363,
   "metadata": {},
   "outputs": [
    {
     "name": "stdout",
     "output_type": "stream",
     "text": [
      "Round number 1\n",
      "Players are at war..!!\n",
      "Players Two won the war..!!\n",
      "Round number 2\n",
      "Players are at war..!!\n",
      "Players Two won the war..!!\n",
      "Round number 3\n",
      "Round number 4\n",
      "Round number 5\n",
      "Round number 6\n",
      "Round number 7\n",
      "Round number 8\n",
      "Round number 9\n",
      "Round number 10\n",
      "Round number 11\n",
      "Round number 12\n",
      "Round number 13\n",
      "Round number 14\n",
      "Round number 15\n",
      "Round number 16\n",
      "Players are at war..!!\n",
      "Players Two won the war..!!\n",
      "Round number 17\n",
      "Round number 18\n",
      "Round number 19\n",
      "Round number 20\n",
      "Round number 21\n",
      "Round number 22\n",
      "Round number 23\n",
      "Round number 24\n",
      "Round number 25\n",
      "Round number 26\n",
      "Round number 27\n",
      "Round number 28\n",
      "Round number 29\n",
      "Round number 30\n",
      "Round number 31\n",
      "Round number 32\n",
      "Round number 33\n",
      "Round number 34\n",
      "Round number 35\n",
      "Players are at war..!!\n",
      "Players Two won the war..!!\n",
      "Round number 36\n",
      "Round number 37\n",
      "Round number 38\n",
      "Players are at war..!!\n",
      "Players Two won the war..!!\n",
      "Round number 39\n",
      "Round number 40\n",
      "Round number 41\n",
      "Round number 42\n",
      "Round number 43\n",
      "Round number 44\n",
      "Round number 45\n",
      "Round number 46\n",
      "Round number 47\n",
      "Round number 48\n",
      "Round number 49\n",
      "Round number 50\n",
      "Round number 51\n",
      "Players are at war..!!\n",
      "Player one out of cards, Player two won\n",
      "Round number 52\n",
      "Round number 53\n",
      "Round number 54\n",
      "Round number 55\n",
      "Round number 56\n",
      "Round number 57\n",
      "Round number 58\n",
      "Round number 59\n",
      "Round number 60\n",
      "Round number 61\n",
      "Players are at war..!!\n",
      "Player one out of cards, Player two won\n",
      "Round number 62\n",
      "Round number 63\n",
      "Round number 64\n",
      "Round number 65\n",
      "Players are at war..!!\n",
      "Players Two won the war..!!\n",
      "Round number 66\n",
      "Round number 67\n",
      "Round number 68\n",
      "Round number 69\n",
      "Players are at war..!!\n",
      "Player one out of cards, Player two won\n",
      "Round number 70\n",
      "Round number 71\n",
      "Round number 72\n",
      "Round number 73\n",
      "Round number 74\n",
      "Round number 75\n",
      "Round number 76\n",
      "Round number 77\n",
      "Round number 78\n",
      "Round number 79\n",
      "Round number 80\n",
      "Round number 81\n",
      "Round number 82\n",
      "Player one has zero cards. Player Two won\n"
     ]
    }
   ],
   "source": [
    "\n",
    "\n",
    "while game_on:\n",
    "    at_war=False\n",
    "    round_num+=1\n",
    "    print(f\"Round number {round_num}\")\n",
    "\n",
    "    if len(player_one.all_cards)==0:\n",
    "        game_on=False\n",
    "        print(\"Player one has zero cards. Player Two won\")\n",
    "        break\n",
    "\n",
    "    if len(player_two.all_cards)==0:\n",
    "        game_on=False\n",
    "        print(\"Player two has zero cards. Player One won\")\n",
    "        break\n",
    "\n",
    "    player_one_cards=[]\n",
    "    player_two_cards=[]\n",
    "\n",
    "    player_one_cards.append(player_one.remove_one())\n",
    "    player_two_cards.append(player_two.remove_one())\n",
    "\n",
    "\n",
    "\n",
    "    if player_one_cards[-1].value>player_two_cards[-1].value:\n",
    "        player_one.all_cards.extend(player_one_cards)\n",
    "        player_one.all_cards.extend(player_two_cards)\n",
    "        \n",
    "    elif player_two_cards[-1].value>player_one_cards[-1].value:\n",
    "        player_two.all_cards.extend(player_two_cards)\n",
    "        player_two.all_cards.extend(player_one_cards)\n",
    "    else:\n",
    "        print(\"Players are at war..!!\")\n",
    "        at_war=True\n",
    "        while at_war:\n",
    "\n",
    "            if len(player_one.all_cards)>5 and len(player_two.all_cards)>5 :\n",
    "               for i in range(6):\n",
    "                    player_one_cards.append(player_one.remove_one())\n",
    "                    player_two_cards.append(player_two.remove_one())\n",
    "\n",
    "                    if player_one_cards[-1].value>player_two_cards[-1].value:\n",
    "                        player_one.all_cards.extend(player_one_cards)\n",
    "                        player_one.all_cards.extend(player_two_cards)\n",
    "                        at_war=False\n",
    "                        print(\"Players One won the war..!!\")\n",
    "                        break\n",
    "                    elif player_two_cards[-1].value>player_one_cards[-1].value:\n",
    "                        player_two.all_cards.extend(player_two_cards)\n",
    "                        player_two.all_cards.extend(player_one_cards)\n",
    "                        at_war=False\n",
    "                        print(\"Players Two won the war..!!\")\n",
    "                        break\n",
    "\n",
    "            else:\n",
    "                if(len(player_one.all_cards)<5):\n",
    "                    print(\"Player one out of cards, Player two won\")\n",
    "                    \n",
    "                if(len(player_two.all_cards)<5):\n",
    "                    print(\"Player two out of cards, Player one won\")\n",
    "                    \n",
    "            break\n",
    "                \n",
    "                \n",
    "            "
   ]
  }
 ],
 "metadata": {
  "interpreter": {
   "hash": "31f2aee4e71d21fbe5cf8b01ff0e069b9275f58929596ceb00d14d90e3e16cd6"
  },
  "kernelspec": {
   "display_name": "Python 3.8.9 64-bit",
   "language": "python",
   "name": "python3"
  },
  "language_info": {
   "codemirror_mode": {
    "name": "ipython",
    "version": 3
   },
   "file_extension": ".py",
   "mimetype": "text/x-python",
   "name": "python",
   "nbconvert_exporter": "python",
   "pygments_lexer": "ipython3",
   "version": "3.8.9"
  },
  "orig_nbformat": 4
 },
 "nbformat": 4,
 "nbformat_minor": 2
}

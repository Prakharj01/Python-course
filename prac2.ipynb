{
 "cells": [
  {
   "cell_type": "code",
   "execution_count": 1,
   "metadata": {},
   "outputs": [
    {
     "data": {
      "text/plain": [
       "range(0, 1)"
      ]
     },
     "execution_count": 1,
     "metadata": {},
     "output_type": "execute_result"
    }
   ],
   "source": [
    "range(0,1)"
   ]
  },
  {
   "cell_type": "code",
   "execution_count": 3,
   "metadata": {},
   "outputs": [
    {
     "data": {
      "text/plain": [
       "[0,\n",
       " 4,\n",
       " 8,\n",
       " 12,\n",
       " 16,\n",
       " 20,\n",
       " 24,\n",
       " 28,\n",
       " 32,\n",
       " 36,\n",
       " 40,\n",
       " 44,\n",
       " 48,\n",
       " 52,\n",
       " 56,\n",
       " 60,\n",
       " 64,\n",
       " 68,\n",
       " 72,\n",
       " 76,\n",
       " 80,\n",
       " 84,\n",
       " 88,\n",
       " 92,\n",
       " 96]"
      ]
     },
     "execution_count": 3,
     "metadata": {},
     "output_type": "execute_result"
    }
   ],
   "source": [
    "list(range(0,100,4))"
   ]
  },
  {
   "cell_type": "code",
   "execution_count": 8,
   "metadata": {},
   "outputs": [
    {
     "name": "stdout",
     "output_type": "stream",
     "text": [
      "    geeks for geeks    \n",
      "Length of String  23\n",
      "geeks for geeks\n",
      "Length of String  15\n",
      "for\n"
     ]
    }
   ],
   "source": [
    "string = \"\"\"    geeks for geeks    \"\"\"\n",
    " \n",
    "# prints the string without stripping\n",
    "print(string)\n",
    "print(\"Length of String \",len(string))\n",
    " \n",
    "# prints the string by removing leading and trailing whitespaces\n",
    "print(string.strip())\n",
    "\n",
    "print(\"Length of String \",len(string.strip()))  \n",
    "\n",
    "# prints the string by removing geeks\n",
    "print(string.strip(' geeks'))"
   ]
  },
  {
   "cell_type": "code",
   "execution_count": 41,
   "metadata": {},
   "outputs": [
    {
     "name": "stdout",
     "output_type": "stream",
     "text": [
      "hello This is Prakhar\n",
      "ello This is P\n"
     ]
    }
   ],
   "source": [
    "# Python Program to demonstrate use of strip() method\n",
    "\n",
    "str1 = 'hello This is Prakhar'\n",
    "# Print the string without stripping.\n",
    "print(str1)\n",
    "\n",
    "# String whose set of characters are to be\n",
    "# remove from original string at both its ends.\n",
    "str2 = 'hrpak'\n",
    "\n",
    "# Print string after stripping str2 from str1 at both its end.\n",
    "print(str1.strip(str2))\n"
   ]
  },
  {
   "cell_type": "code",
   "execution_count": 45,
   "metadata": {},
   "outputs": [
    {
     "name": "stdout",
     "output_type": "stream",
     "text": [
      "King has the largest army in the entire world\n"
     ]
    }
   ],
   "source": [
    "string = \" the King has the largest army in the entire world the\"\n",
    "\n",
    "# prints the string after removing the from beginning and end\n",
    "print(string.strip(\" the\"))"
   ]
  },
  {
   "cell_type": "code",
   "execution_count": 59,
   "metadata": {},
   "outputs": [
    {
     "data": {
      "text/plain": [
       "[0, 1, 4, 9, 16, 25, 36, 49, 64, 81, 100]"
      ]
     },
     "execution_count": 59,
     "metadata": {},
     "output_type": "execute_result"
    }
   ],
   "source": [
    "lst = [x**2 for x in range(0,11)]\n",
    "lst"
   ]
  },
  {
   "cell_type": "code",
   "execution_count": 61,
   "metadata": {},
   "outputs": [
    {
     "data": {
      "text/plain": [
       "['w', 'o', 'r', 'd']"
      ]
     },
     "execution_count": 61,
     "metadata": {},
     "output_type": "execute_result"
    }
   ],
   "source": [
    "lst2=[x for x in 'word']\n",
    "lst2"
   ]
  },
  {
   "cell_type": "code",
   "execution_count": 70,
   "metadata": {},
   "outputs": [
    {
     "name": "stdout",
     "output_type": "stream",
     "text": [
      "9\n"
     ]
    }
   ],
   "source": [
    "def lesser_of_two_evens(a,b):\n",
    "\n",
    "    if a%2==0 and b%2==0:\n",
    "        return min(a,b)\n",
    "    else:\n",
    "        return max(a,b)\n",
    "\n",
    "a=int(input(\"Enter the number 1\"))\n",
    "b=int(input(\"Enter the number 2\"))\n",
    "res=lesser_of_two_evens(a,b)\n",
    "print(res)\n"
   ]
  },
  {
   "cell_type": "code",
   "execution_count": 79,
   "metadata": {},
   "outputs": [],
   "source": [
    "def word_start(str1):\n",
    "    list1=list(str1.split())\n",
    "    if len(list1)==2:\n",
    "        if list1[0][0]==list1[1][0]:\n",
    "            print(\"Same first letter\")\n",
    "    else:\n",
    "        print(\"There are more than two words. Invalid String\")\n",
    "\n",
    "\n",
    "a=input(\"Enter String str1. It should have just two words: \")\n",
    "word_start(a)"
   ]
  },
  {
   "cell_type": "code",
   "execution_count": 84,
   "metadata": {},
   "outputs": [
    {
     "data": {
      "text/plain": [
       "True"
      ]
     },
     "execution_count": 84,
     "metadata": {},
     "output_type": "execute_result"
    }
   ],
   "source": [
    "def makes_twenty(n1,n2):\n",
    "    if n1==20 or n2==20 or n1+n2==20:\n",
    "        return True\n",
    "    else:\n",
    "        return False\n",
    "\n",
    "num1=int(input(\"Enter num1: \"))\n",
    "num2=int(input(\"Enter num2\"))\n",
    "makes_twenty(num1,num2)"
   ]
  },
  {
   "cell_type": "code",
   "execution_count": 99,
   "metadata": {},
   "outputs": [
    {
     "name": "stdout",
     "output_type": "stream",
     "text": [
      "MacDonalds\n",
      "None\n"
     ]
    }
   ],
   "source": [
    "def old_macdonald(name):\n",
    "    str2=name[0].upper()+(name[1:3])+(name[3].upper())+name[4:]\n",
    "    print(str2)\n",
    "\n",
    "name=input(\"Enter the string: \")\n",
    "str3=old_macdonald(name)\n",
    "print(str3)\n"
   ]
  },
  {
   "cell_type": "code",
   "execution_count": 11,
   "metadata": {},
   "outputs": [
    {
     "ename": "NameError",
     "evalue": "name 'join' is not defined",
     "output_type": "error",
     "traceback": [
      "\u001b[0;31m---------------------------------------------------------------------------\u001b[0m",
      "\u001b[0;31mNameError\u001b[0m                                 Traceback (most recent call last)",
      "\u001b[1;32m/Users/prakharjain/Documents/Code/Python/codes/prac2.ipynb Cell 12'\u001b[0m in \u001b[0;36m<module>\u001b[0;34m\u001b[0m\n\u001b[1;32m      <a href='vscode-notebook-cell:/Users/prakharjain/Documents/Code/Python/codes/prac2.ipynb#ch0000011?line=2'>3</a>\u001b[0m list1\u001b[39m=\u001b[39myoda\u001b[39m.\u001b[39msplit()\n\u001b[1;32m      <a href='vscode-notebook-cell:/Users/prakharjain/Documents/Code/Python/codes/prac2.ipynb#ch0000011?line=3'>4</a>\u001b[0m list1\u001b[39m.\u001b[39mreverse()\n\u001b[0;32m----> <a href='vscode-notebook-cell:/Users/prakharjain/Documents/Code/Python/codes/prac2.ipynb#ch0000011?line=5'>6</a>\u001b[0m \u001b[39mprint\u001b[39m(join(list1))\n",
      "\u001b[0;31mNameError\u001b[0m: name 'join' is not defined"
     ]
    }
   ],
   "source": [
    "yoda=input(\"Enter the string for words to be reversed: \")\n",
    "\n",
    "list1=yoda.split()\n",
    "list1.reverse()\n",
    "\n",
    "print(\" \".join(list1))"
   ]
  },
  {
   "cell_type": "code",
   "execution_count": 15,
   "metadata": {},
   "outputs": [
    {
     "name": "stdout",
     "output_type": "stream",
     "text": [
      "Consecutive three\n",
      "Consecutive three\n"
     ]
    }
   ],
   "source": [
    "list5=[1,3,3,3,4,5]\n",
    "\n",
    "def conscheck(list5):\n",
    "    for i in range(0,len(list5)-1):\n",
    "        if list5[i+1]==list5[i]:\n",
    "            if list5[i]==3:\n",
    "                print(\"Consecutive three\")\n",
    "\n",
    "\"\"\"\"\n",
    "if list[i:i+2]=[3,3]:\n",
    "print())\n",
    "\"\"\"\n",
    "\n",
    "conscheck(list5)\n"
   ]
  },
  {
   "cell_type": "code",
   "execution_count": 19,
   "metadata": {},
   "outputs": [
    {
     "name": "stdout",
     "output_type": "stream",
     "text": [
      "HHHeeellllllooo\n"
     ]
    }
   ],
   "source": [
    "str=\"Hello\"\n",
    "def paper_doll(str):\n",
    "    str2=[x*3 for x in str]\n",
    "    res=\"\".join(str2)\n",
    "    return res\n",
    "\n",
    "str3=paper_doll(str)\n",
    "print(str3)"
   ]
  },
  {
   "cell_type": "code",
   "execution_count": null,
   "metadata": {},
   "outputs": [],
   "source": [
    "str=\"Hello\"\n",
    "def paper_doll(str):\n",
    "    return str2\n",
    "\n",
    "str3=paper_doll(str)\n",
    "print(str3)"
   ]
  },
  {
   "cell_type": "code",
   "execution_count": 30,
   "metadata": {},
   "outputs": [
    {
     "name": "stdout",
     "output_type": "stream",
     "text": [
      "14\n"
     ]
    }
   ],
   "source": [
    "def func1(list1):\n",
    "    s=sum(list1)\n",
    "    if s<=21:\n",
    "        return s\n",
    "    elif s>21:\n",
    "        for i in list1:\n",
    "            if i==11:\n",
    "                return s-10\n",
    "        else:\n",
    "            return 'BUST'\n",
    "\n",
    "list1=[5,8,11]\n",
    "res=func1(list1)\n",
    "print(res)\n"
   ]
  },
  {
   "cell_type": "markdown",
   "metadata": {},
   "source": [
    "#### SUMMER OF '69: Return the sum of the numbers in the array, except ignore sections of numbers starting with a 6 and extending to the next 9 (every 6 will be followed by at least one 9). Return 0 for no numbers.\n",
    " \n",
    "    summer_69([1, 3, 5]) --> 9\n",
    "    summer_69([4, 5, 6, 7, 8, 9]) --> 9\n",
    "    summer_69([2, 1, 6, 9, 11]) --> 14"
   ]
  },
  {
   "cell_type": "code",
   "execution_count": 41,
   "metadata": {},
   "outputs": [
    {
     "data": {
      "text/plain": [
       "9"
      ]
     },
     "execution_count": 41,
     "metadata": {},
     "output_type": "execute_result"
    }
   ],
   "source": [
    "def summer_69(list69):\n",
    "    s=0\n",
    "    add=True\n",
    "    for i in list69:\n",
    "        if i==6:\n",
    "            add=False\n",
    "\n",
    "        if add==True:\n",
    "            s+=i\n",
    "\n",
    "        elif i==9:\n",
    "            add=True\n",
    "    return s\n",
    "\n",
    "summer_69([1, 3, 5]) "
   ]
  },
  {
   "cell_type": "code",
   "execution_count": 42,
   "metadata": {},
   "outputs": [
    {
     "data": {
      "text/plain": [
       "9"
      ]
     },
     "execution_count": 42,
     "metadata": {},
     "output_type": "execute_result"
    }
   ],
   "source": [
    "summer_69([4, 5, 6, 7, 8, 9]) "
   ]
  },
  {
   "cell_type": "code",
   "execution_count": 43,
   "metadata": {},
   "outputs": [
    {
     "data": {
      "text/plain": [
       "14"
      ]
     },
     "execution_count": 43,
     "metadata": {},
     "output_type": "execute_result"
    }
   ],
   "source": [
    "summer_69([2, 1, 6, 9, 11]) "
   ]
  },
  {
   "cell_type": "code",
   "execution_count": 51,
   "metadata": {},
   "outputs": [
    {
     "data": {
      "text/plain": [
       "True"
      ]
     },
     "execution_count": 51,
     "metadata": {},
     "output_type": "execute_result"
    }
   ],
   "source": [
    "def detect(list1):\n",
    "    for i in range(1,len(list1)-2):\n",
    "        if list1[i:i+3]==[0,0,7]:\n",
    "            return True\n",
    "    \n",
    "    else:\n",
    "        return False\n",
    "\n",
    "detect([1,2,4,0,0,7,5]) \n"
   ]
  },
  {
   "cell_type": "code",
   "execution_count": 48,
   "metadata": {},
   "outputs": [
    {
     "data": {
      "text/plain": [
       "False"
      ]
     },
     "execution_count": 48,
     "metadata": {},
     "output_type": "execute_result"
    }
   ],
   "source": [
    "\n",
    "detect([1,0,2,4,0,5,7]) "
   ]
  },
  {
   "cell_type": "code",
   "execution_count": 54,
   "metadata": {},
   "outputs": [
    {
     "data": {
      "text/plain": [
       "True"
      ]
     },
     "execution_count": 54,
     "metadata": {},
     "output_type": "execute_result"
    }
   ],
   "source": [
    "detect([1,7,2,0,0,0,7]) "
   ]
  },
  {
   "cell_type": "code",
   "execution_count": 68,
   "metadata": {},
   "outputs": [
    {
     "name": "stdout",
     "output_type": "stream",
     "text": [
      "2\n",
      "3\n",
      "5\n",
      "7\n",
      "11\n",
      "13\n",
      "17\n",
      "19\n",
      "Total num of primes is  8\n"
     ]
    }
   ],
   "source": [
    "def count_primes(num1):\n",
    "    prime=False\n",
    "    count=0\n",
    "    for i in range(2,num1+1):\n",
    "        for j in range(2,i):\n",
    "            if i%j==0:\n",
    "                prime=True\n",
    "                break\n",
    "        if prime==False:\n",
    "            count+=1\n",
    "            print(i)\n",
    "        prime=False        \n",
    "    return count\n",
    "\n",
    "res=count_primes(20)\n",
    "print(\"Total num of primes is \",res)"
   ]
  },
  {
   "cell_type": "code",
   "execution_count": 73,
   "metadata": {},
   "outputs": [],
   "source": [
    "def cubes(x):\n",
    "    return x*x*x"
   ]
  },
  {
   "cell_type": "code",
   "execution_count": 75,
   "metadata": {},
   "outputs": [
    {
     "data": {
      "text/plain": [
       "[8, 125, 27]"
      ]
     },
     "execution_count": 75,
     "metadata": {},
     "output_type": "execute_result"
    }
   ],
   "source": [
    "list59=[2,5,3]\n",
    "list(map(cubes,list59))\n"
   ]
  },
  {
   "cell_type": "code",
   "execution_count": 77,
   "metadata": {},
   "outputs": [],
   "source": [
    "def splicer(mystring):\n",
    "    if len(mystring)%2==0:\n",
    "        return mystring[0]\n",
    "    else:\n",
    "        return (\"String contains odd number of letters. \",mystring)\n",
    "        \n"
   ]
  },
  {
   "cell_type": "code",
   "execution_count": 78,
   "metadata": {},
   "outputs": [
    {
     "data": {
      "text/plain": [
       "[('String contains odd number of letters. ', 'Hello'),\n",
       " 'M',\n",
       " 'N',\n",
       " 'i',\n",
       " ('String contains odd number of letters. ', 'Anthony'),\n",
       " ('String contains odd number of letters. ', 'Gonsalves')]"
      ]
     },
     "execution_count": 78,
     "metadata": {},
     "output_type": "execute_result"
    }
   ],
   "source": [
    "arr=['Hello','My','Name','is','Anthony','Gonsalves']\n",
    "list(map(splicer,arr))"
   ]
  },
  {
   "cell_type": "code",
   "execution_count": null,
   "metadata": {},
   "outputs": [],
   "source": []
  },
  {
   "cell_type": "code",
   "execution_count": null,
   "metadata": {},
   "outputs": [],
   "source": []
  },
  {
   "cell_type": "code",
   "execution_count": null,
   "metadata": {},
   "outputs": [],
   "source": []
  }
 ],
 "metadata": {
  "interpreter": {
   "hash": "31f2aee4e71d21fbe5cf8b01ff0e069b9275f58929596ceb00d14d90e3e16cd6"
  },
  "kernelspec": {
   "display_name": "Python 3.8.9 64-bit",
   "language": "python",
   "name": "python3"
  },
  "language_info": {
   "codemirror_mode": {
    "name": "ipython",
    "version": 3
   },
   "file_extension": ".py",
   "mimetype": "text/x-python",
   "name": "python",
   "nbconvert_exporter": "python",
   "pygments_lexer": "ipython3",
   "version": "3.8.9"
  },
  "orig_nbformat": 4
 },
 "nbformat": 4,
 "nbformat_minor": 2
}

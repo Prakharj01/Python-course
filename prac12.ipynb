{
 "cells": [
  {
   "cell_type": "code",
   "execution_count": 370,
   "metadata": {},
   "outputs": [],
   "source": [
    "from collections import Counter"
   ]
  },
  {
   "cell_type": "code",
   "execution_count": 371,
   "metadata": {},
   "outputs": [],
   "source": [
    "lista=[1,1,1,1,1,2,2,2,2,2,2,2,3,3,3,3,3,3,3,3,3,3,3]"
   ]
  },
  {
   "cell_type": "code",
   "execution_count": 372,
   "metadata": {},
   "outputs": [
    {
     "data": {
      "text/plain": [
       "Counter({1: 5, 2: 7, 3: 11})"
      ]
     },
     "execution_count": 372,
     "metadata": {},
     "output_type": "execute_result"
    }
   ],
   "source": [
    "Counter(lista)"
   ]
  },
  {
   "cell_type": "code",
   "execution_count": 373,
   "metadata": {},
   "outputs": [],
   "source": [
    "listb=['a','a','a','b','b','b','b','7','8','9',8,6,7]"
   ]
  },
  {
   "cell_type": "code",
   "execution_count": 374,
   "metadata": {},
   "outputs": [
    {
     "data": {
      "text/plain": [
       "Counter({'a': 3, 'b': 4, '7': 1, '8': 1, '9': 1, 8: 1, 6: 1, 7: 1})"
      ]
     },
     "execution_count": 374,
     "metadata": {},
     "output_type": "execute_result"
    }
   ],
   "source": [
    "Counter(listb)"
   ]
  },
  {
   "cell_type": "code",
   "execution_count": 375,
   "metadata": {},
   "outputs": [],
   "source": [
    "listc='aasdfdadfafdfadfasdfsdfds'"
   ]
  },
  {
   "cell_type": "code",
   "execution_count": 376,
   "metadata": {},
   "outputs": [
    {
     "data": {
      "text/plain": [
       "Counter({'a': 6, 's': 4, 'd': 8, 'f': 7})"
      ]
     },
     "execution_count": 376,
     "metadata": {},
     "output_type": "execute_result"
    }
   ],
   "source": [
    "Counter(listc)"
   ]
  },
  {
   "cell_type": "code",
   "execution_count": 377,
   "metadata": {},
   "outputs": [],
   "source": [
    "listd=\"Hello there hello here hello everyone let us show where let show here\""
   ]
  },
  {
   "cell_type": "code",
   "execution_count": 378,
   "metadata": {},
   "outputs": [
    {
     "data": {
      "text/plain": [
       "Counter({'hello': 3,\n",
       "         'there': 1,\n",
       "         'here': 2,\n",
       "         'everyone': 1,\n",
       "         'let': 2,\n",
       "         'us': 1,\n",
       "         'show': 2,\n",
       "         'where': 1})"
      ]
     },
     "execution_count": 378,
     "metadata": {},
     "output_type": "execute_result"
    }
   ],
   "source": [
    "Counter(listd.lower().split())"
   ]
  },
  {
   "cell_type": "code",
   "execution_count": 379,
   "metadata": {},
   "outputs": [],
   "source": [
    "dicta=dict(Counter(lista))"
   ]
  },
  {
   "cell_type": "code",
   "execution_count": 380,
   "metadata": {},
   "outputs": [],
   "source": [
    "from collections import defaultdict"
   ]
  },
  {
   "cell_type": "code",
   "execution_count": 381,
   "metadata": {},
   "outputs": [],
   "source": [
    "d1=defaultdict(lambda:10)"
   ]
  },
  {
   "cell_type": "code",
   "execution_count": 382,
   "metadata": {},
   "outputs": [
    {
     "data": {
      "text/plain": [
       "10"
      ]
     },
     "execution_count": 382,
     "metadata": {},
     "output_type": "execute_result"
    }
   ],
   "source": [
    "d1['a']=100\n",
    "d1['b']=200\n",
    "d1['c']"
   ]
  },
  {
   "cell_type": "code",
   "execution_count": 383,
   "metadata": {},
   "outputs": [
    {
     "data": {
      "text/plain": [
       "defaultdict(<function __main__.<lambda>()>, {'a': 100, 'b': 200, 'c': 10})"
      ]
     },
     "execution_count": 383,
     "metadata": {},
     "output_type": "execute_result"
    }
   ],
   "source": [
    "d1"
   ]
  },
  {
   "cell_type": "code",
   "execution_count": 384,
   "metadata": {},
   "outputs": [],
   "source": [
    "from collections import namedtuple"
   ]
  },
  {
   "cell_type": "code",
   "execution_count": 385,
   "metadata": {},
   "outputs": [],
   "source": [
    "Dog=namedtuple('Dog',('age','breed','name'))"
   ]
  },
  {
   "cell_type": "code",
   "execution_count": 386,
   "metadata": {},
   "outputs": [],
   "source": [
    "sammy=Dog(age=5,breed='Husky',name='Sam')"
   ]
  },
  {
   "cell_type": "code",
   "execution_count": 387,
   "metadata": {},
   "outputs": [
    {
     "name": "stdout",
     "output_type": "stream",
     "text": [
      "5 Husky Sam\n"
     ]
    }
   ],
   "source": [
    "print(sammy.age, sammy.breed, sammy.name)"
   ]
  },
  {
   "cell_type": "code",
   "execution_count": 388,
   "metadata": {},
   "outputs": [],
   "source": [
    "rocky=Dog(9,'German Shepard','Rocky')"
   ]
  },
  {
   "cell_type": "code",
   "execution_count": 389,
   "metadata": {},
   "outputs": [
    {
     "data": {
      "text/plain": [
       "9"
      ]
     },
     "execution_count": 389,
     "metadata": {},
     "output_type": "execute_result"
    }
   ],
   "source": [
    "rocky[0]"
   ]
  },
  {
   "cell_type": "code",
   "execution_count": 390,
   "metadata": {},
   "outputs": [
    {
     "data": {
      "text/plain": [
       "'/Users/prakharjain/Documents/Code/Python/codes'"
      ]
     },
     "execution_count": 390,
     "metadata": {},
     "output_type": "execute_result"
    }
   ],
   "source": [
    "pwd"
   ]
  },
  {
   "cell_type": "code",
   "execution_count": 391,
   "metadata": {},
   "outputs": [],
   "source": [
    "f=open(\"practice.txt\",\"w+\")\n",
    "f.write(\"This is the first practice text\")\n",
    "f.close()\n"
   ]
  },
  {
   "cell_type": "code",
   "execution_count": 392,
   "metadata": {},
   "outputs": [],
   "source": [
    "import os"
   ]
  },
  {
   "cell_type": "markdown",
   "metadata": {},
   "source": [
    "i"
   ]
  },
  {
   "cell_type": "code",
   "execution_count": 393,
   "metadata": {},
   "outputs": [
    {
     "data": {
      "text/plain": [
       "'/Users/prakharjain/Documents/Code/Python/codes'"
      ]
     },
     "execution_count": 393,
     "metadata": {},
     "output_type": "execute_result"
    }
   ],
   "source": [
    "os.getcwd()"
   ]
  },
  {
   "cell_type": "code",
   "execution_count": 394,
   "metadata": {},
   "outputs": [
    {
     "data": {
      "text/plain": [
       "['codeprac2.py',\n",
       " 'prac7.ipynb',\n",
       " 'one.py',\n",
       " 'prac5.ipynb',\n",
       " '.DS_Store',\n",
       " 'prac1.ipynb',\n",
       " '1-.ipynb',\n",
       " 'prac3.ipynb',\n",
       " 'prac4.ipynb',\n",
       " 'codeprac.py',\n",
       " 'practice.txt',\n",
       " 'prac2.ipynb',\n",
       " 'guessgame.ipynb',\n",
       " 'two.py',\n",
       " 'myprogram.py',\n",
       " 'prac8-2.ipynb',\n",
       " 'prac1.py',\n",
       " 'MyMainPackage',\n",
       " 'prac11.ipynb',\n",
       " 'mymodule.py',\n",
       " 'prac8.ipynb',\n",
       " 'text.txt',\n",
       " '.ipynb_checkpoints',\n",
       " 'prac12.ipynb',\n",
       " 'justprac.ipynb',\n",
       " 'prac9.ipynb',\n",
       " 'prac10.ipynb']"
      ]
     },
     "execution_count": 394,
     "metadata": {},
     "output_type": "execute_result"
    }
   ],
   "source": [
    "os.listdir()"
   ]
  },
  {
   "cell_type": "code",
   "execution_count": 395,
   "metadata": {},
   "outputs": [
    {
     "data": {
      "text/plain": [
       "['2611',\n",
       " 'design',\n",
       " 'bookmarks_04_06_2022.html',\n",
       " 'vit docs',\n",
       " 'screenshots',\n",
       " '.DS_Store',\n",
       " 'Logo VIT',\n",
       " 'tomcat',\n",
       " '.localized',\n",
       " 'Pictures',\n",
       " 'Code',\n",
       " 'sem 3 files',\n",
       " 'cisco',\n",
       " 'docs',\n",
       " 'wallpapers',\n",
       " 'code practice',\n",
       " 'movies',\n",
       " 'Codes',\n",
       " 'Advanced c',\n",
       " 'AI project',\n",
       " 'Photos',\n",
       " 'sem 4']"
      ]
     },
     "execution_count": 395,
     "metadata": {},
     "output_type": "execute_result"
    }
   ],
   "source": [
    "os.listdir('/Users/prakharjain/Documents')"
   ]
  },
  {
   "cell_type": "code",
   "execution_count": 396,
   "metadata": {},
   "outputs": [
    {
     "data": {
      "text/plain": [
       "['codeprac2.py',\n",
       " 'prac7.ipynb',\n",
       " 'one.py',\n",
       " 'prac5.ipynb',\n",
       " '.DS_Store',\n",
       " 'prac1.ipynb',\n",
       " '1-.ipynb',\n",
       " 'prac3.ipynb',\n",
       " 'prac4.ipynb',\n",
       " 'codeprac.py',\n",
       " 'practice.txt',\n",
       " 'prac2.ipynb',\n",
       " 'guessgame.ipynb',\n",
       " 'two.py',\n",
       " 'myprogram.py',\n",
       " 'prac8-2.ipynb',\n",
       " 'prac1.py',\n",
       " 'MyMainPackage',\n",
       " 'prac11.ipynb',\n",
       " 'mymodule.py',\n",
       " 'prac8.ipynb',\n",
       " 'text.txt',\n",
       " '.ipynb_checkpoints',\n",
       " 'prac12.ipynb',\n",
       " 'justprac.ipynb',\n",
       " 'prac9.ipynb',\n",
       " 'prac10.ipynb']"
      ]
     },
     "execution_count": 396,
     "metadata": {},
     "output_type": "execute_result"
    }
   ],
   "source": [
    "os.listdir()"
   ]
  },
  {
   "cell_type": "code",
   "execution_count": null,
   "metadata": {},
   "outputs": [],
   "source": []
  },
  {
   "cell_type": "code",
   "execution_count": 397,
   "metadata": {},
   "outputs": [],
   "source": [
    "import shutil"
   ]
  },
  {
   "cell_type": "code",
   "execution_count": 398,
   "metadata": {},
   "outputs": [
    {
     "data": {
      "text/plain": [
       "'/Users/prakharjain/Documents/Codes'"
      ]
     },
     "execution_count": 398,
     "metadata": {},
     "output_type": "execute_result"
    }
   ],
   "source": [
    "shutil.move(\"practice.txt\",\"/Users/prakharjain/Documents/Codes\")"
   ]
  },
  {
   "cell_type": "code",
   "execution_count": 399,
   "metadata": {},
   "outputs": [],
   "source": [
    "import os"
   ]
  },
  {
   "cell_type": "markdown",
   "metadata": {},
   "source": [
    "i"
   ]
  },
  {
   "cell_type": "code",
   "execution_count": 400,
   "metadata": {},
   "outputs": [],
   "source": [
    "pathname='/Users/prakharjain/Documents/Code/Python/Course/notebook/12-Advanced Python Modules/Example_Top_Level'"
   ]
  },
  {
   "cell_type": "code",
   "execution_count": 401,
   "metadata": {},
   "outputs": [
    {
     "name": "stdout",
     "output_type": "stream",
     "text": [
      "Currently in folder \t/Users/prakharjain/Documents/Code/Python/Course/notebook/12-Advanced Python Modules/Example_Top_Level\n",
      "The subfolders are : \n",
      "Mid-Example-One\n",
      "The files are: \n",
      ".DS_Store\n",
      "Mid-Example.txt\n",
      "\n",
      "\n",
      "Currently in folder \t/Users/prakharjain/Documents/Code/Python/Course/notebook/12-Advanced Python Modules/Example_Top_Level/Mid-Example-One\n",
      "The subfolders are : \n",
      "Bottom-Level-Two\n",
      "Bottom-Level-One\n",
      "The files are: \n",
      ".DS_Store\n",
      "Mid-Level-Doc.txt\n",
      "\n",
      "\n",
      "Currently in folder \t/Users/prakharjain/Documents/Code/Python/Course/notebook/12-Advanced Python Modules/Example_Top_Level/Mid-Example-One/Bottom-Level-Two\n",
      "The subfolders are : \n",
      "The files are: \n",
      "Bottom-Text-Two.txt\n",
      "\n",
      "\n",
      "Currently in folder \t/Users/prakharjain/Documents/Code/Python/Course/notebook/12-Advanced Python Modules/Example_Top_Level/Mid-Example-One/Bottom-Level-One\n",
      "The subfolders are : \n",
      "The files are: \n",
      "One_Text.txt\n",
      "\n",
      "\n"
     ]
    }
   ],
   "source": [
    "for folder,sub_folder, files in os.walk(pathname):\n",
    "    print(f'Currently in folder \\t{folder}')\n",
    "    print(f'The subfolders are : ')\n",
    "    for subfolder in sub_folder:\n",
    "        print(f'{subfolder}')\n",
    "    print('The files are: ')\n",
    "    for file in files:\n",
    "        print(f'{file}')\n",
    "    print('\\n')\n"
   ]
  },
  {
   "cell_type": "code",
   "execution_count": 402,
   "metadata": {},
   "outputs": [
    {
     "data": {
      "text/plain": [
       "20"
      ]
     },
     "execution_count": 402,
     "metadata": {},
     "output_type": "execute_result"
    }
   ],
   "source": [
    "import datetime\n",
    "mytime=datetime.time(2,20)\n",
    "mytime.minute"
   ]
  },
  {
   "cell_type": "code",
   "execution_count": 403,
   "metadata": {},
   "outputs": [
    {
     "name": "stdout",
     "output_type": "stream",
     "text": [
      "02:20:00\n"
     ]
    }
   ],
   "source": [
    "print(mytime)"
   ]
  },
  {
   "cell_type": "code",
   "execution_count": 404,
   "metadata": {},
   "outputs": [
    {
     "name": "stdout",
     "output_type": "stream",
     "text": [
      "16:00:00\n"
     ]
    }
   ],
   "source": [
    "mytime2=datetime.time(16)\n",
    "print(mytime2)"
   ]
  },
  {
   "cell_type": "code",
   "execution_count": 405,
   "metadata": {},
   "outputs": [
    {
     "name": "stdout",
     "output_type": "stream",
     "text": [
      "16:50:20.000040\n"
     ]
    }
   ],
   "source": [
    "mytime3=datetime.time(16,50,20,40)\n",
    "print(mytime3)"
   ]
  },
  {
   "cell_type": "code",
   "execution_count": 406,
   "metadata": {},
   "outputs": [
    {
     "name": "stdout",
     "output_type": "stream",
     "text": [
      "2022-06-17\n",
      "Fri Jun 17 00:00:00 2022\n"
     ]
    }
   ],
   "source": [
    "import datetime\n",
    "mydate=datetime.date.today()\n",
    "print(mydate)\n",
    "print(mydate.ctime())"
   ]
  },
  {
   "cell_type": "code",
   "execution_count": 407,
   "metadata": {},
   "outputs": [
    {
     "name": "stdout",
     "output_type": "stream",
     "text": [
      "2020-12-03\n",
      "3\n",
      "12\n",
      "2020\n"
     ]
    }
   ],
   "source": [
    "mydate2=datetime.date(2020,12,3)\n",
    "print(mydate2)\n",
    "print(mydate2.day)\n",
    "print(mydate2.month)\n",
    "print(mydate2.year)"
   ]
  },
  {
   "cell_type": "code",
   "execution_count": 408,
   "metadata": {},
   "outputs": [
    {
     "name": "stdout",
     "output_type": "stream",
     "text": [
      "2022-06-17 23:48:36.354520\n",
      "2022\n",
      "6\n",
      "17\n",
      "23\n",
      "48\n",
      "36\n",
      "Fri Jun 17 23:48:36 2022\n"
     ]
    }
   ],
   "source": [
    "from datetime import datetime\n",
    "now=datetime.now()\n",
    "print(now)\n",
    "print(now.year)\n",
    "print(now.month)\n",
    "print(now.day)\n",
    "print(now.hour)\n",
    "print(now.minute)\n",
    "print(now.second)\n",
    "print(now.ctime())"
   ]
  },
  {
   "cell_type": "code",
   "execution_count": 409,
   "metadata": {},
   "outputs": [
    {
     "name": "stdout",
     "output_type": "stream",
     "text": [
      "<class 'datetime.timedelta'>\n"
     ]
    }
   ],
   "source": [
    "from datetime import date\n",
    "\n",
    "date1=date(2021,7,11)\n",
    "date2=date(2020,12,5)\n",
    "date3=date1-date2\n",
    "print(type(date3))\n"
   ]
  },
  {
   "cell_type": "code",
   "execution_count": 410,
   "metadata": {},
   "outputs": [
    {
     "name": "stdout",
     "output_type": "stream",
     "text": [
      "2021-06-01 00:06:02\n",
      "Tue Jun  1 00:06:02 2021\n",
      "2020-06-01 00:06:02\n"
     ]
    }
   ],
   "source": [
    "from datetime import datetime\n",
    "mydatetime= datetime(2021,6,1,0,6,2)\n",
    "print(mydatetime)\n",
    "print(mydatetime.ctime())\n",
    "mydatetime=mydatetime.replace(year=2020)\n",
    "print(mydatetime)"
   ]
  },
  {
   "cell_type": "code",
   "execution_count": 411,
   "metadata": {},
   "outputs": [
    {
     "name": "stdout",
     "output_type": "stream",
     "text": [
      "initial_date 2022-06-17 23:48:36.409677\n",
      "future_date_after_2yrs: 2024-06-16 23:48:36.409677\n",
      "future_date_after_2days: 2022-06-19 23:48:36.409677\n",
      "past_date_before_2yrs: 2020-06-17 23:48:36.409677\n",
      "past_date_before_2hours: 2022-06-17 21:48:36.409677\n"
     ]
    }
   ],
   "source": [
    "# Timedelta function demonstration\n",
    "from datetime import datetime, timedelta\n",
    "\n",
    "# Using current time\n",
    "ini_time_for_now = datetime.now()\n",
    "\n",
    "# printing initial_date\n",
    "print (\"initial_date\", str(ini_time_for_now))\n",
    "\n",
    "# Calculating future dates\n",
    "# for two years\n",
    "future_date_after_2yrs = ini_time_for_now + \\\n",
    "\t\t\t\t\t\ttimedelta(days = 730)\n",
    "\n",
    "future_date_after_2days = ini_time_for_now + \\\n",
    "\t\t\t\t\t\ttimedelta(days = 2)\n",
    "\n",
    "# printing calculated future_dates\n",
    "print('future_date_after_2yrs:', str(future_date_after_2yrs))\n",
    "print('future_date_after_2days:', str(future_date_after_2days))\n",
    "\n",
    "past_date_before_2yrs = ini_time_for_now - \\\n",
    "                       timedelta(days = 730)\n",
    " \n",
    "# for two hours\n",
    "past_date_before_2hours = ini_time_for_now - \\\n",
    "                        timedelta(hours = 2)\n",
    " \n",
    " \n",
    "# printing calculated past_dates\n",
    "print('past_date_before_2yrs:', str(past_date_before_2yrs))\n",
    "print('past_date_before_2hours:', str(past_date_before_2hours))"
   ]
  },
  {
   "cell_type": "code",
   "execution_count": 412,
   "metadata": {},
   "outputs": [
    {
     "name": "stdout",
     "output_type": "stream",
     "text": [
      "75 days, 11:20:00\n"
     ]
    }
   ],
   "source": [
    "datetime1=datetime(2022,3,5,22,30)\n",
    "datetime2=datetime(2022,5,20,9,50)\n",
    "\n",
    "print(datetime2-datetime1)"
   ]
  },
  {
   "cell_type": "code",
   "execution_count": 413,
   "metadata": {},
   "outputs": [
    {
     "name": "stdout",
     "output_type": "stream",
     "text": [
      "The value of e is  2.718281828459045\n",
      "The value of pi is  3.141592653589793\n",
      "The cos value of pi is  -1.0\n",
      "The cos value of pi is  1.2246467991473532e-16\n",
      "The cos value of pi is  0.0\n",
      "The cos value of pi is  0.5235987755982988\n",
      "3\n",
      "5\n",
      "82\n",
      "40\n",
      "The remainder is  20.0\n",
      "The floating sum of lista is  132.0\n",
      "The interger sum of lista is  132\n",
      "Checking if tan pi is infinity  False\n",
      "Checking if the value is neither infinity nor nAn,  True\n",
      "The factorial of 3 is  120\n",
      "The absolute value of the number is  3.56\n",
      "The degree value is  360.0\n",
      "The radian value is  1.5707963267948966\n",
      "Using logarithms in math module  4.0\n",
      "Logarithm to base e  4.605170185988092\n",
      "Logarithm to base 15  3.0\n",
      "X to power Y is  1024.0\n",
      "The square root of 625 is  25.0\n"
     ]
    }
   ],
   "source": [
    "import math\n",
    "\n",
    "print(\"The value of e is \",math.e)\n",
    "print(\"The value of pi is \", math.pi)\n",
    "print(\"The cos value of pi is \", math.cos(math.pi))\n",
    "print(\"The cos value of pi is \", math.sin(math.pi))\n",
    "print(\"The cos value of pi is \", math.acos(1))\n",
    "print(\"The cos value of pi is \", math.asin(1/2))\n",
    "print(math.ceil(2.48))\n",
    "print(math.floor(5.78))\n",
    "print(round(81.51))\n",
    "print(math.gcd(200,240))\n",
    "print(\"The remainder is \" ,math.fmod(140,30))\n",
    "\n",
    "lista=[22,23,25,30,32]\n",
    "print(\"The floating sum of lista is \",math.fsum(lista))\n",
    "print(\"The interger sum of lista is \",sum(lista))\n",
    "\n",
    "print(\"Checking if tan pi is infinity \" ,math.isinf(math.tan(math.pi)))\n",
    "print(\"Checking if the value is neither infinity nor nAn, \",math.isfinite(math.tan(math.pi)))\n",
    "print(\"The factorial of 3 is \",math.factorial(5))\n",
    "print(\"The absolute value of the number is \", math.fabs(3.56))\n",
    "print(\"The degree value is \", math.degrees(2*(math.pi)))\n",
    "print(\"The radian value is \", math.radians(90))\n",
    "\n",
    "print(\"Using logarithms in math module \",math.log10(10000))\n",
    "print(\"Logarithm to base e \", math.log(100))\n",
    "print(\"Logarithm to base 15 \", math.log(225*15,15))\n",
    "print(\"X to power Y is \",math.pow(2,10))\n",
    "print(\"The square root of 625 is \", math.sqrt(625))\n"
   ]
  },
  {
   "cell_type": "code",
   "execution_count": 414,
   "metadata": {},
   "outputs": [
    {
     "name": "stdout",
     "output_type": "stream",
     "text": [
      "Help on module math:\n",
      "\n",
      "NAME\n",
      "    math\n",
      "\n",
      "MODULE REFERENCE\n",
      "    https://docs.python.org/3.8/library/math\n",
      "    \n",
      "    The following documentation is automatically generated from the Python\n",
      "    source files.  It may be incomplete, incorrect or include features that\n",
      "    are considered implementation detail and may vary between Python\n",
      "    implementations.  When in doubt, consult the module reference at the\n",
      "    location listed above.\n",
      "\n",
      "DESCRIPTION\n",
      "    This module provides access to the mathematical functions\n",
      "    defined by the C standard.\n",
      "\n",
      "FUNCTIONS\n",
      "    acos(x, /)\n",
      "        Return the arc cosine (measured in radians) of x.\n",
      "    \n",
      "    acosh(x, /)\n",
      "        Return the inverse hyperbolic cosine of x.\n",
      "    \n",
      "    asin(x, /)\n",
      "        Return the arc sine (measured in radians) of x.\n",
      "    \n",
      "    asinh(x, /)\n",
      "        Return the inverse hyperbolic sine of x.\n",
      "    \n",
      "    atan(x, /)\n",
      "        Return the arc tangent (measured in radians) of x.\n",
      "    \n",
      "    atan2(y, x, /)\n",
      "        Return the arc tangent (measured in radians) of y/x.\n",
      "        \n",
      "        Unlike atan(y/x), the signs of both x and y are considered.\n",
      "    \n",
      "    atanh(x, /)\n",
      "        Return the inverse hyperbolic tangent of x.\n",
      "    \n",
      "    ceil(x, /)\n",
      "        Return the ceiling of x as an Integral.\n",
      "        \n",
      "        This is the smallest integer >= x.\n",
      "    \n",
      "    comb(n, k, /)\n",
      "        Number of ways to choose k items from n items without repetition and without order.\n",
      "        \n",
      "        Evaluates to n! / (k! * (n - k)!) when k <= n and evaluates\n",
      "        to zero when k > n.\n",
      "        \n",
      "        Also called the binomial coefficient because it is equivalent\n",
      "        to the coefficient of k-th term in polynomial expansion of the\n",
      "        expression (1 + x)**n.\n",
      "        \n",
      "        Raises TypeError if either of the arguments are not integers.\n",
      "        Raises ValueError if either of the arguments are negative.\n",
      "    \n",
      "    copysign(x, y, /)\n",
      "        Return a float with the magnitude (absolute value) of x but the sign of y.\n",
      "        \n",
      "        On platforms that support signed zeros, copysign(1.0, -0.0)\n",
      "        returns -1.0.\n",
      "    \n",
      "    cos(x, /)\n",
      "        Return the cosine of x (measured in radians).\n",
      "    \n",
      "    cosh(x, /)\n",
      "        Return the hyperbolic cosine of x.\n",
      "    \n",
      "    degrees(x, /)\n",
      "        Convert angle x from radians to degrees.\n",
      "    \n",
      "    dist(p, q, /)\n",
      "        Return the Euclidean distance between two points p and q.\n",
      "        \n",
      "        The points should be specified as sequences (or iterables) of\n",
      "        coordinates.  Both inputs must have the same dimension.\n",
      "        \n",
      "        Roughly equivalent to:\n",
      "            sqrt(sum((px - qx) ** 2.0 for px, qx in zip(p, q)))\n",
      "    \n",
      "    erf(x, /)\n",
      "        Error function at x.\n",
      "    \n",
      "    erfc(x, /)\n",
      "        Complementary error function at x.\n",
      "    \n",
      "    exp(x, /)\n",
      "        Return e raised to the power of x.\n",
      "    \n",
      "    expm1(x, /)\n",
      "        Return exp(x)-1.\n",
      "        \n",
      "        This function avoids the loss of precision involved in the direct evaluation of exp(x)-1 for small x.\n",
      "    \n",
      "    fabs(x, /)\n",
      "        Return the absolute value of the float x.\n",
      "    \n",
      "    factorial(x, /)\n",
      "        Find x!.\n",
      "        \n",
      "        Raise a ValueError if x is negative or non-integral.\n",
      "    \n",
      "    floor(x, /)\n",
      "        Return the floor of x as an Integral.\n",
      "        \n",
      "        This is the largest integer <= x.\n",
      "    \n",
      "    fmod(x, y, /)\n",
      "        Return fmod(x, y), according to platform C.\n",
      "        \n",
      "        x % y may differ.\n",
      "    \n",
      "    frexp(x, /)\n",
      "        Return the mantissa and exponent of x, as pair (m, e).\n",
      "        \n",
      "        m is a float and e is an int, such that x = m * 2.**e.\n",
      "        If x is 0, m and e are both 0.  Else 0.5 <= abs(m) < 1.0.\n",
      "    \n",
      "    fsum(seq, /)\n",
      "        Return an accurate floating point sum of values in the iterable seq.\n",
      "        \n",
      "        Assumes IEEE-754 floating point arithmetic.\n",
      "    \n",
      "    gamma(x, /)\n",
      "        Gamma function at x.\n",
      "    \n",
      "    gcd(x, y, /)\n",
      "        greatest common divisor of x and y\n",
      "    \n",
      "    hypot(...)\n",
      "        hypot(*coordinates) -> value\n",
      "        \n",
      "        Multidimensional Euclidean distance from the origin to a point.\n",
      "        \n",
      "        Roughly equivalent to:\n",
      "            sqrt(sum(x**2 for x in coordinates))\n",
      "        \n",
      "        For a two dimensional point (x, y), gives the hypotenuse\n",
      "        using the Pythagorean theorem:  sqrt(x*x + y*y).\n",
      "        \n",
      "        For example, the hypotenuse of a 3/4/5 right triangle is:\n",
      "        \n",
      "            >>> hypot(3.0, 4.0)\n",
      "            5.0\n",
      "    \n",
      "    isclose(a, b, *, rel_tol=1e-09, abs_tol=0.0)\n",
      "        Determine whether two floating point numbers are close in value.\n",
      "        \n",
      "          rel_tol\n",
      "            maximum difference for being considered \"close\", relative to the\n",
      "            magnitude of the input values\n",
      "          abs_tol\n",
      "            maximum difference for being considered \"close\", regardless of the\n",
      "            magnitude of the input values\n",
      "        \n",
      "        Return True if a is close in value to b, and False otherwise.\n",
      "        \n",
      "        For the values to be considered close, the difference between them\n",
      "        must be smaller than at least one of the tolerances.\n",
      "        \n",
      "        -inf, inf and NaN behave similarly to the IEEE 754 Standard.  That\n",
      "        is, NaN is not close to anything, even itself.  inf and -inf are\n",
      "        only close to themselves.\n",
      "    \n",
      "    isfinite(x, /)\n",
      "        Return True if x is neither an infinity nor a NaN, and False otherwise.\n",
      "    \n",
      "    isinf(x, /)\n",
      "        Return True if x is a positive or negative infinity, and False otherwise.\n",
      "    \n",
      "    isnan(x, /)\n",
      "        Return True if x is a NaN (not a number), and False otherwise.\n",
      "    \n",
      "    isqrt(n, /)\n",
      "        Return the integer part of the square root of the input.\n",
      "    \n",
      "    ldexp(x, i, /)\n",
      "        Return x * (2**i).\n",
      "        \n",
      "        This is essentially the inverse of frexp().\n",
      "    \n",
      "    lgamma(x, /)\n",
      "        Natural logarithm of absolute value of Gamma function at x.\n",
      "    \n",
      "    log(...)\n",
      "        log(x, [base=math.e])\n",
      "        Return the logarithm of x to the given base.\n",
      "        \n",
      "        If the base not specified, returns the natural logarithm (base e) of x.\n",
      "    \n",
      "    log10(x, /)\n",
      "        Return the base 10 logarithm of x.\n",
      "    \n",
      "    log1p(x, /)\n",
      "        Return the natural logarithm of 1+x (base e).\n",
      "        \n",
      "        The result is computed in a way which is accurate for x near zero.\n",
      "    \n",
      "    log2(x, /)\n",
      "        Return the base 2 logarithm of x.\n",
      "    \n",
      "    modf(x, /)\n",
      "        Return the fractional and integer parts of x.\n",
      "        \n",
      "        Both results carry the sign of x and are floats.\n",
      "    \n",
      "    perm(n, k=None, /)\n",
      "        Number of ways to choose k items from n items without repetition and with order.\n",
      "        \n",
      "        Evaluates to n! / (n - k)! when k <= n and evaluates\n",
      "        to zero when k > n.\n",
      "        \n",
      "        If k is not specified or is None, then k defaults to n\n",
      "        and the function returns n!.\n",
      "        \n",
      "        Raises TypeError if either of the arguments are not integers.\n",
      "        Raises ValueError if either of the arguments are negative.\n",
      "    \n",
      "    pow(x, y, /)\n",
      "        Return x**y (x to the power of y).\n",
      "    \n",
      "    prod(iterable, /, *, start=1)\n",
      "        Calculate the product of all the elements in the input iterable.\n",
      "        \n",
      "        The default start value for the product is 1.\n",
      "        \n",
      "        When the iterable is empty, return the start value.  This function is\n",
      "        intended specifically for use with numeric values and may reject\n",
      "        non-numeric types.\n",
      "    \n",
      "    radians(x, /)\n",
      "        Convert angle x from degrees to radians.\n",
      "    \n",
      "    remainder(x, y, /)\n",
      "        Difference between x and the closest integer multiple of y.\n",
      "        \n",
      "        Return x - n*y where n*y is the closest integer multiple of y.\n",
      "        In the case where x is exactly halfway between two multiples of\n",
      "        y, the nearest even value of n is used. The result is always exact.\n",
      "    \n",
      "    sin(x, /)\n",
      "        Return the sine of x (measured in radians).\n",
      "    \n",
      "    sinh(x, /)\n",
      "        Return the hyperbolic sine of x.\n",
      "    \n",
      "    sqrt(x, /)\n",
      "        Return the square root of x.\n",
      "    \n",
      "    tan(x, /)\n",
      "        Return the tangent of x (measured in radians).\n",
      "    \n",
      "    tanh(x, /)\n",
      "        Return the hyperbolic tangent of x.\n",
      "    \n",
      "    trunc(x, /)\n",
      "        Truncates the Real x to the nearest Integral toward 0.\n",
      "        \n",
      "        Uses the __trunc__ magic method.\n",
      "\n",
      "DATA\n",
      "    e = 2.718281828459045\n",
      "    inf = inf\n",
      "    nan = nan\n",
      "    pi = 3.141592653589793\n",
      "    tau = 6.283185307179586\n",
      "\n",
      "FILE\n",
      "    /Library/Developer/CommandLineTools/Library/Frameworks/Python3.framework/Versions/3.8/lib/python3.8/lib-dynload/math.cpython-38-darwin.so\n",
      "\n",
      "\n"
     ]
    }
   ],
   "source": [
    "help(math)"
   ]
  },
  {
   "cell_type": "code",
   "execution_count": 415,
   "metadata": {},
   "outputs": [
    {
     "name": "stdout",
     "output_type": "stream",
     "text": [
      "the random number is  90\n"
     ]
    }
   ],
   "source": [
    "import random\n",
    "print(\"the random number is \",random.randint(1,100))"
   ]
  },
  {
   "cell_type": "code",
   "execution_count": 416,
   "metadata": {},
   "outputs": [
    {
     "data": {
      "text/plain": [
       "74"
      ]
     },
     "execution_count": 416,
     "metadata": {},
     "output_type": "execute_result"
    }
   ],
   "source": [
    "random.seed(101)\n",
    "random.randint(0,100)"
   ]
  },
  {
   "cell_type": "code",
   "execution_count": 417,
   "metadata": {},
   "outputs": [
    {
     "name": "stdout",
     "output_type": "stream",
     "text": [
      "24\n",
      "69\n"
     ]
    }
   ],
   "source": [
    "print(random.randint(0,101))\n",
    "print(random.randint(0,100))"
   ]
  },
  {
   "cell_type": "code",
   "execution_count": 418,
   "metadata": {},
   "outputs": [
    {
     "name": "stdout",
     "output_type": "stream",
     "text": [
      "8\n",
      "28\n",
      "35\n",
      "19\n",
      "30\n"
     ]
    }
   ],
   "source": [
    "random.seed(54)\n",
    "for i in range(5):\n",
    "    print(random.randint(0,50))"
   ]
  },
  {
   "cell_type": "code",
   "execution_count": 419,
   "metadata": {},
   "outputs": [
    {
     "name": "stdout",
     "output_type": "stream",
     "text": [
      "[0, 1, 2, 3, 4, 5, 6, 7, 8, 9, 10, 11, 12, 13, 14, 15]\n"
     ]
    }
   ],
   "source": [
    "mylist=list(range(0,16))\n",
    "print(mylist)"
   ]
  },
  {
   "cell_type": "code",
   "execution_count": 420,
   "metadata": {},
   "outputs": [
    {
     "name": "stdout",
     "output_type": "stream",
     "text": [
      "15\n",
      "[0, 1, 2, 3, 4, 5, 6, 7, 8, 9, 10, 11, 12, 13, 14, 15]\n"
     ]
    }
   ],
   "source": [
    "print(random.choice(mylist))\n",
    "print(mylist)"
   ]
  },
  {
   "cell_type": "code",
   "execution_count": 421,
   "metadata": {},
   "outputs": [
    {
     "name": "stdout",
     "output_type": "stream",
     "text": [
      "[6, 7, 9, 6, 14, 14, 11, 0, 15, 8]\n"
     ]
    }
   ],
   "source": [
    "# PICKING MULTIPLE WITH REPLACEMENT\n",
    "print(random.choices(population=mylist,k=10))"
   ]
  },
  {
   "cell_type": "code",
   "execution_count": 422,
   "metadata": {},
   "outputs": [
    {
     "name": "stdout",
     "output_type": "stream",
     "text": [
      "[2, 8, 5, 14, 4, 6, 11, 12, 15, 0]\n",
      "[0, 1, 2, 3, 4, 5, 6, 7, 8, 9, 10, 11, 12, 13, 14, 15]\n"
     ]
    }
   ],
   "source": [
    "# PICKING WITHOUT REPLACEMENT\n",
    "print(random.sample(population=mylist,k=10))\n",
    "print(mylist)"
   ]
  },
  {
   "cell_type": "code",
   "execution_count": 423,
   "metadata": {},
   "outputs": [
    {
     "name": "stdout",
     "output_type": "stream",
     "text": [
      "[3, 13, 2, 15, 10, 1, 12, 14, 5, 11, 6, 0, 9, 7, 4, 8]\n"
     ]
    }
   ],
   "source": [
    "random.shuffle(mylist)\n",
    "print(mylist)"
   ]
  },
  {
   "cell_type": "code",
   "execution_count": 424,
   "metadata": {},
   "outputs": [
    {
     "name": "stdout",
     "output_type": "stream",
     "text": [
      "3.789424690809171\n"
     ]
    }
   ],
   "source": [
    "print(random.uniform(a=0,b=10))\n"
   ]
  },
  {
   "cell_type": "code",
   "execution_count": 425,
   "metadata": {},
   "outputs": [
    {
     "name": "stdout",
     "output_type": "stream",
     "text": [
      "68\n",
      "--Return--\n",
      "None\n",
      "> \u001b[0;32m/var/folders/c_/mzk268691xx9nfdm6fvc39wm0000gn/T/ipykernel_56726/3912252450.py\u001b[0m(9)\u001b[0;36m<module>\u001b[0;34m()\u001b[0m\n",
      "\u001b[0;32m      7 \u001b[0;31m\u001b[0mprint\u001b[0m\u001b[0;34m(\u001b[0m\u001b[0ma\u001b[0m\u001b[0;34m)\u001b[0m\u001b[0;34m\u001b[0m\u001b[0;34m\u001b[0m\u001b[0m\n",
      "\u001b[0m\u001b[0;32m      8 \u001b[0;31m\u001b[0;34m\u001b[0m\u001b[0m\n",
      "\u001b[0m\u001b[0;32m----> 9 \u001b[0;31m\u001b[0mpdb\u001b[0m\u001b[0;34m.\u001b[0m\u001b[0mset_trace\u001b[0m\u001b[0;34m(\u001b[0m\u001b[0;34m)\u001b[0m\u001b[0;34m\u001b[0m\u001b[0;34m\u001b[0m\u001b[0m\n",
      "\u001b[0m\u001b[0;32m     10 \u001b[0;31m\u001b[0mb\u001b[0m\u001b[0;34m=\u001b[0m\u001b[0my\u001b[0m\u001b[0;34m+\u001b[0m\u001b[0mz\u001b[0m\u001b[0;34m\u001b[0m\u001b[0;34m\u001b[0m\u001b[0m\n",
      "\u001b[0m\u001b[0;32m     11 \u001b[0;31m\u001b[0mprint\u001b[0m\u001b[0;34m(\u001b[0m\u001b[0mb\u001b[0m\u001b[0;34m)\u001b[0m\u001b[0;34m\u001b[0m\u001b[0;34m\u001b[0m\u001b[0m\n",
      "\u001b[0m\n"
     ]
    },
    {
     "ename": "BdbQuit",
     "evalue": "",
     "output_type": "error",
     "traceback": [
      "\u001b[0;31m---------------------------------------------------------------------------\u001b[0m",
      "\u001b[0;31mBdbQuit\u001b[0m                                   Traceback (most recent call last)",
      "\u001b[1;32m/Users/prakharjain/Documents/Code/Python/codes/prac12.ipynb Cell 59'\u001b[0m in \u001b[0;36m<module>\u001b[0;34m\u001b[0m\n\u001b[1;32m      <a href='vscode-notebook-cell:/Users/prakharjain/Documents/Code/Python/codes/prac12.ipynb#ch0000068?line=5'>6</a>\u001b[0m a\u001b[39m=\u001b[39mx\u001b[39m+\u001b[39mz\n\u001b[1;32m      <a href='vscode-notebook-cell:/Users/prakharjain/Documents/Code/Python/codes/prac12.ipynb#ch0000068?line=6'>7</a>\u001b[0m \u001b[39mprint\u001b[39m(a)\n\u001b[0;32m----> <a href='vscode-notebook-cell:/Users/prakharjain/Documents/Code/Python/codes/prac12.ipynb#ch0000068?line=8'>9</a>\u001b[0m pdb\u001b[39m.\u001b[39mset_trace()\n\u001b[1;32m     <a href='vscode-notebook-cell:/Users/prakharjain/Documents/Code/Python/codes/prac12.ipynb#ch0000068?line=9'>10</a>\u001b[0m b\u001b[39m=\u001b[39my\u001b[39m+\u001b[39mz\n\u001b[1;32m     <a href='vscode-notebook-cell:/Users/prakharjain/Documents/Code/Python/codes/prac12.ipynb#ch0000068?line=10'>11</a>\u001b[0m \u001b[39mprint\u001b[39m(b)\n",
      "File \u001b[0;32m/Library/Developer/CommandLineTools/Library/Frameworks/Python3.framework/Versions/3.8/lib/python3.8/bdb.py:92\u001b[0m, in \u001b[0;36mBdb.trace_dispatch\u001b[0;34m(self, frame, event, arg)\u001b[0m\n\u001b[1;32m     <a href='file:///Library/Developer/CommandLineTools/Library/Frameworks/Python3.framework/Versions/3.8/lib/python3.8/bdb.py?line=89'>90</a>\u001b[0m     \u001b[39mreturn\u001b[39;00m \u001b[39mself\u001b[39m\u001b[39m.\u001b[39mdispatch_call(frame, arg)\n\u001b[1;32m     <a href='file:///Library/Developer/CommandLineTools/Library/Frameworks/Python3.framework/Versions/3.8/lib/python3.8/bdb.py?line=90'>91</a>\u001b[0m \u001b[39mif\u001b[39;00m event \u001b[39m==\u001b[39m \u001b[39m'\u001b[39m\u001b[39mreturn\u001b[39m\u001b[39m'\u001b[39m:\n\u001b[0;32m---> <a href='file:///Library/Developer/CommandLineTools/Library/Frameworks/Python3.framework/Versions/3.8/lib/python3.8/bdb.py?line=91'>92</a>\u001b[0m     \u001b[39mreturn\u001b[39;00m \u001b[39mself\u001b[39;49m\u001b[39m.\u001b[39;49mdispatch_return(frame, arg)\n\u001b[1;32m     <a href='file:///Library/Developer/CommandLineTools/Library/Frameworks/Python3.framework/Versions/3.8/lib/python3.8/bdb.py?line=92'>93</a>\u001b[0m \u001b[39mif\u001b[39;00m event \u001b[39m==\u001b[39m \u001b[39m'\u001b[39m\u001b[39mexception\u001b[39m\u001b[39m'\u001b[39m:\n\u001b[1;32m     <a href='file:///Library/Developer/CommandLineTools/Library/Frameworks/Python3.framework/Versions/3.8/lib/python3.8/bdb.py?line=93'>94</a>\u001b[0m     \u001b[39mreturn\u001b[39;00m \u001b[39mself\u001b[39m\u001b[39m.\u001b[39mdispatch_exception(frame, arg)\n",
      "File \u001b[0;32m/Library/Developer/CommandLineTools/Library/Frameworks/Python3.framework/Versions/3.8/lib/python3.8/bdb.py:154\u001b[0m, in \u001b[0;36mBdb.dispatch_return\u001b[0;34m(self, frame, arg)\u001b[0m\n\u001b[1;32m    <a href='file:///Library/Developer/CommandLineTools/Library/Frameworks/Python3.framework/Versions/3.8/lib/python3.8/bdb.py?line=151'>152</a>\u001b[0m \u001b[39mfinally\u001b[39;00m:\n\u001b[1;32m    <a href='file:///Library/Developer/CommandLineTools/Library/Frameworks/Python3.framework/Versions/3.8/lib/python3.8/bdb.py?line=152'>153</a>\u001b[0m     \u001b[39mself\u001b[39m\u001b[39m.\u001b[39mframe_returning \u001b[39m=\u001b[39m \u001b[39mNone\u001b[39;00m\n\u001b[0;32m--> <a href='file:///Library/Developer/CommandLineTools/Library/Frameworks/Python3.framework/Versions/3.8/lib/python3.8/bdb.py?line=153'>154</a>\u001b[0m \u001b[39mif\u001b[39;00m \u001b[39mself\u001b[39m\u001b[39m.\u001b[39mquitting: \u001b[39mraise\u001b[39;00m BdbQuit\n\u001b[1;32m    <a href='file:///Library/Developer/CommandLineTools/Library/Frameworks/Python3.framework/Versions/3.8/lib/python3.8/bdb.py?line=154'>155</a>\u001b[0m \u001b[39m# The user issued a 'next' or 'until' command.\u001b[39;00m\n\u001b[1;32m    <a href='file:///Library/Developer/CommandLineTools/Library/Frameworks/Python3.framework/Versions/3.8/lib/python3.8/bdb.py?line=155'>156</a>\u001b[0m \u001b[39mif\u001b[39;00m \u001b[39mself\u001b[39m\u001b[39m.\u001b[39mstopframe \u001b[39mis\u001b[39;00m frame \u001b[39mand\u001b[39;00m \u001b[39mself\u001b[39m\u001b[39m.\u001b[39mstoplineno \u001b[39m!=\u001b[39m \u001b[39m-\u001b[39m\u001b[39m1\u001b[39m:\n",
      "\u001b[0;31mBdbQuit\u001b[0m: "
     ]
    }
   ],
   "source": [
    "import pdb\n",
    "x=23\n",
    "y=[2,5,6]\n",
    "z=45\n",
    "\n",
    "a=x+z\n",
    "print(a)\n",
    "\n",
    "pdb.set_trace()\n",
    "b=y+z\n",
    "print(b)\n",
    "\n"
   ]
  },
  {
   "cell_type": "code",
   "execution_count": null,
   "metadata": {},
   "outputs": [
    {
     "name": "stdout",
     "output_type": "stream",
     "text": [
      "True\n",
      "True\n"
     ]
    }
   ],
   "source": [
    "text1=\"This is a phone in the paragraph i am writing with a phone\"\n",
    "\n",
    "print('phone' in text1)\n",
    "word='phone'\n",
    "print(word in text1)"
   ]
  },
  {
   "cell_type": "code",
   "execution_count": null,
   "metadata": {},
   "outputs": [
    {
     "name": "stdout",
     "output_type": "stream",
     "text": [
      "<re.Match object; span=(10, 15), match='phone'>\n",
      "<re.Match object; span=(10, 15), match='phone'>\n",
      "(10, 15)\n",
      "10\n",
      "15\n"
     ]
    }
   ],
   "source": [
    "import re\n",
    "pattern='phone'\n",
    "print(re.search(pattern,text1))\n",
    "\n",
    "matches=re.search(pattern,text1)\n",
    "print(matches)\n",
    "print(matches.span())\n",
    "print(matches.start())\n",
    "print(matches.end())\n",
    "\n"
   ]
  },
  {
   "cell_type": "code",
   "execution_count": null,
   "metadata": {},
   "outputs": [
    {
     "name": "stdout",
     "output_type": "stream",
     "text": [
      "['phone', 'phone']\n",
      "2\n"
     ]
    }
   ],
   "source": [
    "ref=re.findall(pattern,text1)\n",
    "print(ref)\n",
    "print(len(ref))\n"
   ]
  },
  {
   "cell_type": "code",
   "execution_count": 472,
   "metadata": {},
   "outputs": [
    {
     "name": "stdout",
     "output_type": "stream",
     "text": [
      "<re.Match object; span=(10, 15), match='phone'>\n",
      "(10, 15)\n",
      "10\n",
      "<re.Match object; span=(53, 58), match='phone'>\n",
      "(53, 58)\n",
      "53\n",
      "phone\n"
     ]
    }
   ],
   "source": [
    "for match in re.finditer('phone',text1):\n",
    "    print(match)\n",
    "    print(match.span())\n",
    "    print(match.start())\n",
    "    \n",
    " \n",
    "    "
   ]
  },
  {
   "cell_type": "code",
   "execution_count": null,
   "metadata": {},
   "outputs": [
    {
     "name": "stdout",
     "output_type": "stream",
     "text": [
      "<re.Match object; span=(19, 32), match='0771-29987-22'>\n"
     ]
    }
   ],
   "source": [
    "text=\"My phone number is 0771-29987-22\"\n",
    "phn=r'\\d\\d\\d\\d-\\d\\d\\d\\d\\d-\\d\\d'\n",
    "print(re.search(phn,text))\n"
   ]
  },
  {
   "cell_type": "code",
   "execution_count": 445,
   "metadata": {},
   "outputs": [
    {
     "name": "stdout",
     "output_type": "stream",
     "text": [
      "<re.Match object; span=(15, 19), match='2771'>\n",
      "['2771', '5423', '7895']\n",
      "<re.Match object; span=(15, 19), match='2771'>\n"
     ]
    }
   ],
   "source": [
    "text2=\"My numbers are 2771 and 5423 along with 7895\"\n",
    "num=r'\\d{4}'\n",
    "print(re.search(num,text2))\n",
    "print(re.findall(num,text2))\n"
   ]
  },
  {
   "cell_type": "code",
   "execution_count": 465,
   "metadata": {},
   "outputs": [
    {
     "name": "stdout",
     "output_type": "stream",
     "text": [
      "<re.Match object; span=(4, 13), match='dude-of-t'>\n",
      "['dude-of-t']\n"
     ]
    }
   ],
   "source": [
    "text3='Hey dude-of-the-trude'\n",
    "num2=r'\\w*-\\w*-\\w'\n",
    "print(re.search(num2,text3))\n",
    "print(re.findall(num2,text3))"
   ]
  },
  {
   "cell_type": "code",
   "execution_count": 469,
   "metadata": {},
   "outputs": [
    {
     "name": "stdout",
     "output_type": "stream",
     "text": [
      "<re.Match object; span=(23, 39), match='0771-2594-2598-2'>\n",
      "0771\n",
      "2594\n",
      "2598\n"
     ]
    }
   ],
   "source": [
    "text4=\"My new phone number is 0771-2594-2598-2\"\n",
    "phn3='\\d{4}-\\d{4}-\\d{4}-\\d'\n",
    "\n",
    "phone_pattern=re.compile(r'(\\d{4})-(\\d{4})-(\\d{4})-(\\d)')\n",
    "\n",
    "results=re.search(phone_pattern,text4)\n",
    "print(results)\n",
    "\n",
    "print(results.group(1))\n",
    "print(results.group(2))\n",
    "print(results.group(3))\n"
   ]
  },
  {
   "cell_type": "code",
   "execution_count": 480,
   "metadata": {},
   "outputs": [
    {
     "name": "stdout",
     "output_type": "stream",
     "text": [
      "['a cat', 'a rat', 'e mat', ' flat', 'splat']\n",
      "['at', 'at', 'at', 'at', 'at', 'at']\n"
     ]
    }
   ],
   "source": [
    "phrase=\"There is a cat and a rat bat the mat of the flat with a weird splat\"\n",
    "word=r'...at'\n",
    "word2=r'at'\n",
    "print(re.findall(word,phrase))\n",
    "print(re.findall(word2,phrase))"
   ]
  },
  {
   "cell_type": "code",
   "execution_count": 500,
   "metadata": {},
   "outputs": [
    {
     "name": "stdout",
     "output_type": "stream",
     "text": [
      "['2']\n",
      "['3']\n",
      "['1']\n"
     ]
    }
   ],
   "source": [
    "phrase2='2qb There are multiple one8 arm89 numbers 6gh in 5 this sentence 3'\n",
    "word4=r'^\\d'\n",
    "word5=r'\\d$'\n",
    "print(re.findall(word4,phrase2))\n",
    "print(re.findall(word5,phrase2))\n",
    "# Starts with a number\n",
    "print(re.findall(r'^\\d','1 is the loneliest number.'))"
   ]
  },
  {
   "cell_type": "code",
   "execution_count": 501,
   "metadata": {},
   "outputs": [
    {
     "name": "stdout",
     "output_type": "stream",
     "text": [
      "<re.Match object; span=(5, 8), match='man'>\n",
      "<re.Match object; span=(5, 10), match='woman'>\n"
     ]
    }
   ],
   "source": [
    "print(re.search(r\"man|woman\",\"This man was here.\"))\n",
    "print(re.search(r\"man|woman\",\"This woman was here.\"))"
   ]
  },
  {
   "cell_type": "code",
   "execution_count": 507,
   "metadata": {},
   "outputs": [
    {
     "name": "stdout",
     "output_type": "stream",
     "text": [
      "['t', 'h', 'e', 'r', 'e', ' ', 'a', 'r', 'e', ' ', ' ', 'n', 'u', 'm', 'b', 'e', 'r', 's', ' ', ' ', 'i', 'n', 's', 'i', 'd', 'e', ' ', ' ', 't', 'h', 'i', 's', ' ', 's', 'e', 'n', 't', 'e', 'n', 'c', 'e', '.']\n"
     ]
    }
   ],
   "source": [
    "phrase = \"there are 3 numbers 345 inside 5 this sentence.\"\n",
    "print(re.findall(r'[^\\d]',phrase))"
   ]
  },
  {
   "cell_type": "code",
   "execution_count": 509,
   "metadata": {},
   "outputs": [
    {
     "name": "stdout",
     "output_type": "stream",
     "text": [
      "['there are ', ' numbers ', ' inside ', ' this sentence.']\n",
      "there are  numbers  inside  this sentence.\n"
     ]
    }
   ],
   "source": [
    "phrase = \"there are 3 numbers 34 inside 5 this sentence.\"\n",
    "result2=re.findall(r'[^\\d]+',phrase)\n",
    "print(result2)\n",
    "print(''.join(result2))\n"
   ]
  },
  {
   "cell_type": "code",
   "execution_count": 515,
   "metadata": {},
   "outputs": [
    {
     "name": "stdout",
     "output_type": "stream",
     "text": [
      "['This', 'is', 'a', 'sentence', 'which', 'consist', 'of', 'many', 'punctuations', 'and', 'gaps', 'How', 'do', 'i', 'remove', 'it']\n",
      "This is a sentence which consist of many punctuations and gaps How do i remove it\n"
     ]
    }
   ],
   "source": [
    "phrase3=\"This is a sentence, which consist of many punctuations and gaps.! How do i remove it?\"\n",
    "punc=r'[^.,?! ]+'\n",
    "result3=re.findall(punc,phrase3)\n",
    "print(result3)\n",
    "print(' '.join(result3))"
   ]
  },
  {
   "cell_type": "code",
   "execution_count": 518,
   "metadata": {},
   "outputs": [],
   "source": [
    "# Find words that start with cat and end with one of these options: 'fish','nap', or 'claw'\n",
    "text = 'Hello, would you like some catfish?'\n",
    "texttwo = \"Hello, would you like to take a catnap?\"\n",
    "textthree = \"Hello, have you seen this caterpillar?\""
   ]
  },
  {
   "cell_type": "code",
   "execution_count": 520,
   "metadata": {},
   "outputs": [
    {
     "name": "stdout",
     "output_type": "stream",
     "text": [
      "<re.Match object; span=(27, 34), match='catfish'>\n",
      "<re.Match object; span=(32, 38), match='catnap'>\n",
      "<re.Match object; span=(26, 37), match='caterpillar'>\n"
     ]
    }
   ],
   "source": [
    "print(re.search(r'cat(nap|fish|erpillar|bin|sum)',text))\n",
    "print(re.search(r'cat(nap|fish|erpillar|bin|sum)',texttwo))\n",
    "print(re.search(r'cat(nap|fish|erpillar|bin|sum)',textthree))\n",
    "\n"
   ]
  },
  {
   "cell_type": "code",
   "execution_count": 527,
   "metadata": {},
   "outputs": [
    {
     "name": "stdout",
     "output_type": "stream",
     "text": [
      "<re.Match object; span=(25, 36), match='hypen-words'>\n",
      "['hypen-words', 'places-it', 'long-ish']\n"
     ]
    }
   ],
   "source": [
    "text=\"We need to only find the hypen-words but we arent sure about the places-it had been and how long-ish it is \"\n",
    "hyp=r'[\\w]+-[\\w]+'\n",
    "\n",
    "print(re.search(hyp,text))\n",
    "print(re.findall(hyp,text))"
   ]
  },
  {
   "cell_type": "code",
   "execution_count": 529,
   "metadata": {},
   "outputs": [
    {
     "name": "stdout",
     "output_type": "stream",
     "text": [
      "['0', '1', '2', '3', '4', '5', '6', '7', '8', '9']\n"
     ]
    }
   ],
   "source": [
    "def func_one(n):\n",
    "    return [str(num) for num in range(n)]\n",
    "print(func_one(10))"
   ]
  },
  {
   "cell_type": "code",
   "execution_count": 532,
   "metadata": {},
   "outputs": [],
   "source": [
    "def func_two(n):\n",
    "    '''\n",
    "    Given a number n, returns a list of string integers\n",
    "    ['0','1','2',...'n]\n",
    "    '''\n",
    "    return list(map(str,range(n)))"
   ]
  },
  {
   "cell_type": "code",
   "execution_count": 533,
   "metadata": {},
   "outputs": [
    {
     "name": "stdout",
     "output_type": "stream",
     "text": [
      "0.14410972595214844\n"
     ]
    }
   ],
   "source": [
    "import time\n",
    "\n",
    "start_time=time.time()\n",
    "func_one(1000000)\n",
    "end_time=time.time()\n",
    "elapsed_time=end_time-start_time\n",
    "\n",
    "print(elapsed_time)"
   ]
  },
  {
   "cell_type": "code",
   "execution_count": 538,
   "metadata": {},
   "outputs": [
    {
     "name": "stdout",
     "output_type": "stream",
     "text": [
      "0.09741020202636719\n"
     ]
    }
   ],
   "source": [
    "import time\n",
    "\n",
    "start_time2=time.time()\n",
    "func_two(1000000)\n",
    "end_time2=time.time()\n",
    "elapsed_time2=end_time2-start_time2\n",
    "\n",
    "print(elapsed_time2)"
   ]
  },
  {
   "cell_type": "code",
   "execution_count": 542,
   "metadata": {},
   "outputs": [],
   "source": [
    "import timeit\n",
    "stmt='''\n",
    "func_one(100)'''"
   ]
  },
  {
   "cell_type": "code",
   "execution_count": 543,
   "metadata": {},
   "outputs": [],
   "source": [
    "setup='''\n",
    "def func_one(n):\n",
    "    return [str(num) for num in range(n)]\n",
    "'''"
   ]
  },
  {
   "cell_type": "code",
   "execution_count": 544,
   "metadata": {},
   "outputs": [
    {
     "data": {
      "text/plain": [
       "1.0682637090067146"
      ]
     },
     "execution_count": 544,
     "metadata": {},
     "output_type": "execute_result"
    }
   ],
   "source": [
    "timeit.timeit(stmt,setup,number=100000)"
   ]
  },
  {
   "cell_type": "code",
   "execution_count": 545,
   "metadata": {},
   "outputs": [],
   "source": [
    "stmt2='''\n",
    "func_two(100)\n",
    "'''"
   ]
  },
  {
   "cell_type": "code",
   "execution_count": 546,
   "metadata": {},
   "outputs": [],
   "source": [
    "setup2='''\n",
    "\n",
    "def func_two(n):\n",
    "    return list(map(str,range(n)))\n",
    "'''"
   ]
  },
  {
   "cell_type": "code",
   "execution_count": 548,
   "metadata": {},
   "outputs": [
    {
     "data": {
      "text/plain": [
       "0.846791291012778"
      ]
     },
     "execution_count": 548,
     "metadata": {},
     "output_type": "execute_result"
    }
   ],
   "source": [
    "timeit.timeit(stmt2,setup2,number=100000)"
   ]
  },
  {
   "cell_type": "code",
   "execution_count": null,
   "metadata": {},
   "outputs": [],
   "source": []
  }
 ],
 "metadata": {
  "interpreter": {
   "hash": "31f2aee4e71d21fbe5cf8b01ff0e069b9275f58929596ceb00d14d90e3e16cd6"
  },
  "kernelspec": {
   "display_name": "Python 3.8.9 64-bit",
   "language": "python",
   "name": "python3"
  },
  "language_info": {
   "codemirror_mode": {
    "name": "ipython",
    "version": 3
   },
   "file_extension": ".py",
   "mimetype": "text/x-python",
   "name": "python",
   "nbconvert_exporter": "python",
   "pygments_lexer": "ipython3",
   "version": "3.8.9"
  },
  "orig_nbformat": 4
 },
 "nbformat": 4,
 "nbformat_minor": 2
}
